{
 "cells": [
  {
   "cell_type": "markdown",
   "metadata": {},
   "source": [
    "<img src=\"../imgs/banner_IA.png\"  width=\"1000px\" height=\"200px\">\n",
    "\n",
    "# Taller 00:  Ejemplo de ejecución\n",
    "\n",
    "## <span style=\"color:red\"> Outline </span> \n",
    "\n",
    "1. [Ejercicio 1.](#eje1)\n",
    "2. [Ejercicio 2.](#eje2)\n",
    "3. [Ejercicio 3.](#eje3)\n",
    "4. [Ejercicio 4.](#eje4)\n",
    "5. [Ejercicio 5.](#eje5)\n",
    "\n",
    "#### <font style=\"color: red\"> Esta práctica contiene 2 ejercicios <!-- ONLY IN NOTEBOOK -->\n",
    "\n",
    "<h2><span style=\"color:#FFF; background-color:#F00; font-weight:bold; padding:4px;\">¡IMPORTANTE!</span> Ejecute esta celda para iniciar la actividad</h2>"
   ]
  },
  {
   "cell_type": "code",
   "execution_count": 1,
   "metadata": {},
   "outputs": [],
   "source": [
    "!chmod 777 empaquetar.sh run utils/*"
   ]
  },
  {
   "cell_type": "markdown",
   "metadata": {},
   "source": [
    "<h2><span style=\"color:#FFF; background-color:#F00; font-weight:bold; padding:4px;\">¡IMPORTANTE!</span></h2><br><h2 style=\"margin-top:-10px;\">Usted debe ejecutar <span style=\"color:#F00;\">TODAS</span> las celdas de tipo <span style=\"color:#F00;\">CODE</span>. De lo contrario, sus respuestas no serán procesadas correctamente.</h2>"
   ]
  },
  {
   "cell_type": "markdown",
   "metadata": {},
   "source": [
    "---\n",
    "### 1. Ejercicio :<a name=\"eje1\"></a>\n",
    "\n",
    "Completa la siguiente función para que, dada una muestra `X`, calcule el porcentaje de elementos de `X` que están entre `a` y `b`. Es decir, una aproximación empírica a:\n",
    "\n",
    "$$P(X>a\\;\\; \\&\\;\\; X<b)$$\n",
    "\n",
    "_El resultado puede ser aproximado._"
   ]
  },
  {
   "cell_type": "code",
   "execution_count": 3,
   "metadata": {},
   "outputs": [],
   "source": [
    "def eprob(X,a,b):\n",
    "    import numpy as np\n",
    "    \n",
    "    #Code Here    \n",
    "    \n",
    "    return prob\n",
    "\n",
    "import urllib, inspect\n",
    "src1 = urllib.quote_plus(inspect.getsource(eprob))"
   ]
  },
  {
   "cell_type": "markdown",
   "metadata": {},
   "source": [
    "Prueba tu codigo:"
   ]
  },
  {
   "cell_type": "code",
   "execution_count": 6,
   "metadata": {},
   "outputs": [
    {
     "data": {
      "text/plain": [
       "0.96150000000000002"
      ]
     },
     "execution_count": 6,
     "metadata": {},
     "output_type": "execute_result"
    }
   ],
   "source": [
    "import numpy as np\n",
    "eprob(np.random.normal(loc=10, scale=2, size=10000),6,14)"
   ]
  },
  {
   "cell_type": "markdown",
   "metadata": {},
   "source": [
    "#### <span style=\"color:#FFF; background-color:#080; font-weight:bold; padding:4px;\">Importante</span> Evalue su respuesta."
   ]
  },
  {
   "cell_type": "code",
   "execution_count": null,
   "metadata": {},
   "outputs": [],
   "source": [
    "!./run CHECK_SOLUTION PS2_1 $src1"
   ]
  },
  {
   "cell_type": "markdown",
   "metadata": {},
   "source": [
    "---\n",
    "### 2. Ejercicio :<a name=\"eje2\"></a>\n",
    "\n",
    "Completa la siguiente función para que devuelva un número $n$ de muestras de forma que\n",
    "\n",
    "- El 30% de las muestras provenga de una distribución $\\sim \\mathcal{N}(3,1.5)$\n",
    "- El 70% de las muestras provenga de una distribución $\\sim \\mathcal{N}(7,0.7)$\n",
    "\n",
    "- las $n$ muestras han de estar mezcladas (es decir, no es válida cualquier solución en la que todas las muestras de una misma normal están juntas)\n",
    "\n",
    "_*recuerda permutar el resultado_\n",
    "\n",
    "- puedes usar las funciones [`np.random.normal`](https://docs.scipy.org/doc/numpy/reference/generated/numpy.random.normal.html) y [`np.random.permutation`](https://docs.scipy.org/doc/numpy/reference/generated/numpy.random.permutation.html) \n",
    "- asegúrate de usar un `int` para el argumento `size` de `np.random.normal`. la instrucción `int(k)` convierte `k` a un entero.\n",
    "\n"
   ]
  },
  {
   "cell_type": "code",
   "execution_count": null,
   "metadata": {},
   "outputs": [],
   "source": [
    "def mixed_sampling(n):\n",
    "    import numpy as np\n",
    "    \n",
    "    #Code here\n",
    "    m1=None\n",
    "    m2=None\n",
    "    \n",
    "    return m\n",
    "\n",
    "import urllib, inspect\n",
    "src9 = urllib.quote_plus(inspect.getsource(mixed_sampling))"
   ]
  },
  {
   "cell_type": "markdown",
   "metadata": {},
   "source": [
    "Observa como se ve la distribución resultante:"
   ]
  },
  {
   "cell_type": "code",
   "execution_count": 13,
   "metadata": {},
   "outputs": [
    {
     "name": "stdout",
     "output_type": "stream",
     "text": [
      "(5.8021960494573488, 2.0947907387496176)\n",
      "5.36790243712\n"
     ]
    },
    {
     "data": {
      "image/png": "[encoded data removed]",
      "text/plain": [
       "<matplotlib.figure.Figure at 0x7fdefe137550>"
      ]
     },
     "metadata": {},
     "output_type": "display_data"
    }
   ],
   "source": [
    "import matplotlib.pyplot as plt\n",
    "import numpy as np\n",
    "import scipy.stats as stats\n",
    "\n",
    "x = mixed_sampling(100000)\n",
    "\n",
    "print(stats.norm.fit(x))\n",
    "print(np.mean(x[:10]))\n",
    "plt.hist(x, bins=30);"
   ]
  },
  {
   "cell_type": "markdown",
   "metadata": {},
   "source": [
    "#### <span style=\"color:#FFF; background-color:#080; font-weight:bold; padding:4px;\">Importante</span> Evalue su respuesta."
   ]
  },
  {
   "cell_type": "code",
   "execution_count": null,
   "metadata": {},
   "outputs": [],
   "source": [
    "!./run CHECK_SOLUTION PS2_2 $src9"
   ]
  },
  {
   "cell_type": "markdown",
   "metadata": {},
   "source": [
    "--- \n",
    "### 3. Ejercicio :<a name=\"eje3\"></a>\n",
    "\n",
    "Suponga que a un paciente se le hace un estudio y obtiene resultados positivos a una Enfermedad que sólo el 0.5% de la población tiene.\n",
    "\n",
    "La tasa de efectividad del estudio es del 99%, osea que sólo da falsos positivos en el 1% de los casos\n",
    "\n",
    "$$P(Enfermo|Positivo)= \\frac{P(Positivo|Enfermo)P(Enfermo)}{P(Positivo)}$$\n",
    "\n",
    "¿Cuán probable es que el paciente realmente tenga esa enfermedad?\n",
    "\n",
    "Defina una función que calcule la probabilidad cuyos parametros sean la probabilidad de estar enfermo(`a priori`)  y los VerdaderosPositivos(`likelihood`)."
   ]
  },
  {
   "cell_type": "code",
   "execution_count": null,
   "metadata": {},
   "outputs": [],
   "source": [
    "def infBayes(a_priori,likelihood):\n",
    "    \n",
    "    #Code Here    \n",
    "    a_posteriori = None\n",
    "    \n",
    "    return a_posteriori\n",
    "\n",
    "import urllib, inspect\n",
    "src7 = urllib.quote_plus(inspect.getsource(infBayes))"
   ]
  },
  {
   "cell_type": "code",
   "execution_count": 20,
   "metadata": {},
   "outputs": [
    {
     "name": "stdout",
     "output_type": "stream",
     "text": [
      "Probabilidad de tener la enfermedad: 49.50\n"
     ]
    }
   ],
   "source": [
    "a_priori = 0.005\n",
    "likelihood = 0.99\n",
    "\n",
    "print \"Probabilidad de tener la enfermedad:\",'%.2f'%(infBayes(a_priori,likelihood)*100)"
   ]
  },
  {
   "cell_type": "markdown",
   "metadata": {},
   "source": [
    "#### <span style=\"color:#FFF; background-color:#080; font-weight:bold; padding:4px;\">Importante</span> Evalue su respuesta."
   ]
  },
  {
   "cell_type": "code",
   "execution_count": null,
   "metadata": {},
   "outputs": [],
   "source": [
    "!./run CHECK_SOLUTION PS2_3 $src7"
   ]
  },
  {
   "cell_type": "markdown",
   "metadata": {},
   "source": [
    "---\n",
    "### 4. Ejercicio :<a name=\"eje4\"></a>\n",
    "\n",
    "Dada una ciudad de $500.000$ habitantes con la siguiente distribución:\n",
    "\n",
    "||   | Niñas |  Niños  | Mujeres | Hombres | ||\n",
    "|---|---|---|---|---|---|\n",
    "||| 110000  |  90000 | 160000 | 140000|| |\n",
    "\n",
    "y un reporte de $90.000$ casos de gripa, con la siguiente distribución:\n",
    "\n",
    "||   | Niñas |  Niños  | Mujeres | Hombres | ||\n",
    "|---|---|---|---|---|---|\n",
    "||| 20000  |  15000 | 30000 | 25000|| |\n",
    "\n",
    "Elabore una función para obtener la probabilidad de gripa por sector demográfico (por ejemplo: la probabilidad de ser niña teniendo gripa), como parametro se tendrá la `población total` y la `población con gripa` y debe retornar una `lista` con cada una de las probabilidades.\n",
    "\n",
    "Teorema:\n",
    "$$P(A|B) = \\frac{P(B|A)P(A)}{\\sum_{A_i \\in A}P(B|A_i)P(A_i)}$$\n"
   ]
  },
  {
   "cell_type": "code",
   "execution_count": null,
   "metadata": {},
   "outputs": [],
   "source": [
    "def bayesPob(p, pg):    \n",
    "    \n",
    "    #Code here.\n",
    "    \n",
    "    return pab\n",
    "import urllib, inspect\n",
    "src10 = urllib.quote_plus(inspect.getsource(bayesPob))"
   ]
  },
  {
   "cell_type": "markdown",
   "metadata": {},
   "source": [
    "Prueba tu codigo:"
   ]
  },
  {
   "cell_type": "code",
   "execution_count": 25,
   "metadata": {},
   "outputs": [
    {
     "name": "stdout",
     "output_type": "stream",
     "text": [
      "Probabilidad de ser niña y tener gripa: 0.2222\n",
      "Probabilidad de ser niño y tener gripa: 0.1667\n",
      "Probabilidad de ser mujer y tener gripa: 0.3333\n",
      "Probabilidad de ser hombre y tener gripa: 0.2778\n"
     ]
    }
   ],
   "source": [
    "p = map(float, [110000, 90000, 160000, 140000])\n",
    "pg = map(float, [20000, 15000, 30000, 25000])\n",
    "result=bayesPob(p, pg)\n",
    "print \"Probabilidad de ser niña y tener gripa:\",'%.4f'%(result[0])\n",
    "print \"Probabilidad de ser niño y tener gripa:\",'%.4f'%(result[1])\n",
    "print \"Probabilidad de ser mujer y tener gripa:\",'%.4f'%(result[2])\n",
    "print \"Probabilidad de ser hombre y tener gripa:\",'%.4f'%(result[3])"
   ]
  },
  {
   "cell_type": "markdown",
   "metadata": {},
   "source": [
    "#### <span style=\"color:#FFF; background-color:#080; font-weight:bold; padding:4px;\">Importante</span> Evalue su respuesta"
   ]
  },
  {
   "cell_type": "code",
   "execution_count": null,
   "metadata": {},
   "outputs": [],
   "source": [
    "!./run CHECK_SOLUTION PS2_4 $src10"
   ]
  },
  {
   "cell_type": "markdown",
   "metadata": {},
   "source": [
    "---\n",
    "### 5. Ejercicio :<a name=\"eje5\"></a>\n",
    "\n",
    "Complete la funcion siguiente para que, siguiendo Teorema del limite central, devuelva un intervalo de confianza para el promedio de un grupo de n estudiantes con media $\\mu$ y desviación estándar $\\sigma$ que contenga el $p$ porciento de la población.\n",
    "\n",
    "Teorema:\n",
    "$$\\mathcal{N}(\\mu, \\frac{\\sigma}{\\sqrt{n}})$$\n",
    "\n",
    "la función ha de retornar una tupla con los dos extremos del intervalo centrados en la media."
   ]
  },
  {
   "cell_type": "code",
   "execution_count": null,
   "metadata": {},
   "outputs": [],
   "source": [
    "def ainterval(mu,sigma,n,p):\n",
    "    import scipy.stats as stats\n",
    "    \n",
    "    #Code here\n",
    "    result = None\n",
    "    \n",
    "    return result\n",
    "\n",
    "import urllib, inspect\n",
    "src4 = urllib.quote_plus(inspect.getsource(ainterval))"
   ]
  },
  {
   "cell_type": "markdown",
   "metadata": {},
   "source": [
    "Prueba tu codigo:"
   ]
  },
  {
   "cell_type": "code",
   "execution_count": 31,
   "metadata": {},
   "outputs": [
    {
     "name": "stdout",
     "output_type": "stream",
     "text": [
      "este intervalo debe de ser [3.63,4.17] aprox --> [3.63, 4.17]\n"
     ]
    }
   ],
   "source": [
    "print \"este intervalo debe de ser [3.63,4.17] aprox --> [%.2f, %.2f]\"%ainterval(3.9,0.76,30,.95)"
   ]
  },
  {
   "cell_type": "markdown",
   "metadata": {},
   "source": [
    "#### <span style=\"color:#FFF; background-color:#080; font-weight:bold; padding:4px;\">Importante</span> Evalue su respuesta"
   ]
  },
  {
   "cell_type": "code",
   "execution_count": null,
   "metadata": {},
   "outputs": [],
   "source": [
    "!./run CHECK_SOLUTION PS2_5 $src4"
   ]
  },
  {
   "cell_type": "markdown",
   "metadata": {},
   "source": [
    "---\n",
    "#### <span style=\"color:#FFF; background-color:#080; font-weight:bold; padding:4px;\">Importante</span> Pasos Finales. \n",
    "\n",
    "#### 1. Guarde los cambios del taller:"
   ]
  },
  {
   "cell_type": "code",
   "execution_count": 18,
   "metadata": {},
   "outputs": [
    {
     "data": {
      "application/javascript": [
       "require([\"base/js/namespace\"],function(Jupyter) {\n",
       "    Jupyter.notebook.save_checkpoint();\n",
       "});"
      ],
      "text/plain": [
       "<IPython.core.display.Javascript object>"
      ]
     },
     "metadata": {},
     "output_type": "display_data"
    }
   ],
   "source": [
    "%%javascript\n",
    "require([\"base/js/namespace\"],function(Jupyter) {\n",
    "    Jupyter.notebook.save_checkpoint();\n",
    "});"
   ]
  },
  {
   "cell_type": "markdown",
   "metadata": {},
   "source": [
    "#### 2. Reemplace la variable con su código de estudiante"
   ]
  },
  {
   "cell_type": "code",
   "execution_count": 19,
   "metadata": {},
   "outputs": [],
   "source": [
    "codigo=0000000"
   ]
  },
  {
   "cell_type": "markdown",
   "metadata": {},
   "source": [
    "#### 3. Ejecute la siguiente selda y envíe el archivo comprimido"
   ]
  },
  {
   "cell_type": "code",
   "execution_count": 20,
   "metadata": {},
   "outputs": [
    {
     "name": "stdout",
     "output_type": "stream",
     "text": [
      "¡PERFECTO!, el archivo   '0.zip'   se creó correctamente :D\r\n"
     ]
    }
   ],
   "source": [
    "!./empaquetar.sh $codigo"
   ]
  },
  {
   "cell_type": "markdown",
   "metadata": {},
   "source": [
    "---\n",
    "# <center> Thanks! </center>"
   ]
  }
 ],
 "metadata": {
  "kernelspec": {
   "display_name": "Python 2",
   "language": "python",
   "name": "python2"
  },
  "language_info": {
   "codemirror_mode": {
    "name": "ipython",
    "version": 2
   },
   "file_extension": ".py",
   "mimetype": "text/x-python",
   "name": "python",
   "nbconvert_exporter": "python",
   "pygments_lexer": "ipython2",
   "version": "2.7.14"
  },
  "toc": {
   "toc_cell": false,
   "toc_number_sections": true,
   "toc_threshold": 6,
   "toc_window_display": false
  }
 },
 "nbformat": 4,
 "nbformat_minor": 1
}

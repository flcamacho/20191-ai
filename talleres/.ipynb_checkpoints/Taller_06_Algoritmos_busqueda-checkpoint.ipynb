{
 "cells": [
  {
   "cell_type": "markdown",
   "metadata": {},
   "source": [
    "<img src=\"../imgs/banner_IA.png\"  width=\"1000px\" height=\"200px\">\n",
    "\n",
    "# Taller 6:  Algoritmos de Busqueda\n",
    "\n",
    "## <span style=\"color:red\"> Outline </span> \n",
    "\n",
    "1. [Ejercicio 1. coordenada T](#eje1)\n",
    "2. [Ejercicio 2. estructura con prioridades](#eje2)\n",
    "3. [Ejercicio 3. camino](#eje3)\n",
    "\n",
    "\n",
    "\n",
    "\n",
    "#### <font style=\"color: red\"> Esta práctica contiene 5 ejercicios <!-- ONLY IN NOTEBOOK -->\n",
    "\n",
    "<h2><span style=\"color:#FFF; background-color:#F00; font-weight:bold; padding:4px;\">¡IMPORTANTE!</span> Ejecute esta celda para iniciar la actividad</h2>"
   ]
  },
  {
   "cell_type": "code",
   "execution_count": 1,
   "metadata": {},
   "outputs": [],
   "source": [
    "import numpy as np\n",
    "%run -i utils/ps3.py\n",
    "import inspect, urllib\n"
   ]
  },
  {
   "cell_type": "code",
   "execution_count": 2,
   "metadata": {},
   "outputs": [],
   "source": [
    "!chmod 777 empaquetar.sh run utils/*"
   ]
  },
  {
   "cell_type": "markdown",
   "metadata": {},
   "source": [
    "# Ejercicio 1 <a name=\"eje1\"></a>\n",
    "\n",
    "completa al siguiente función para que dada una especificación de un laberinto como lo visto en clase devuelva las coordenadas de la casilla **`T`**. Por ejemplo:\n",
    "\n",
    "    my_grid = [\".....X\",\n",
    "               \"XX...X\",\n",
    "               \"...X..\",\n",
    "               \".XX..X\",\n",
    "               \".X...T\"]\n",
    "                  \n",
    "    find_target(my_grid)\n",
    "    (4,5)\n",
    "    \n",
    "observa que en la coordenada resultante el primer elemento es la columna y el segundo la fila.\n",
    "\n",
    "**el resultado ha de ser del tipo `tupla`**"
   ]
  },
  {
   "cell_type": "code",
   "execution_count": 3,
   "metadata": {},
   "outputs": [],
   "source": [
    "def find_target(grid):\n",
    "    import numpy as np\n",
    "    \n",
    "    \n",
    "    None\n",
    "    \n",
    "    \n",
    "    \n",
    "    return target\n",
    "\n",
    "import urllib, inspect\n",
    "src1 = urllib.quote_plus(inspect.getsource(find_target))"
   ]
  },
  {
   "cell_type": "markdown",
   "metadata": {},
   "source": [
    "comprueba tu código"
   ]
  },
  {
   "cell_type": "code",
   "execution_count": 4,
   "metadata": {},
   "outputs": [
    {
     "data": {
      "text/plain": [
       "(4, 5)"
      ]
     },
     "execution_count": 4,
     "metadata": {},
     "output_type": "execute_result"
    }
   ],
   "source": [
    "my_grid = [\".....X\",\n",
    "        \"XX...X\",\n",
    "        \"...X..\",\n",
    "        \".XX..X\",\n",
    "        \".X...T\"]\n",
    "\n",
    "find_target(my_grid)"
   ]
  },
  {
   "cell_type": "markdown",
   "metadata": {},
   "source": [
    "#### <span style=\"color:#FFF; background-color:#080; font-weight:bold; padding:4px;\">Importante</span> Evalue su respuesta."
   ]
  },
  {
   "cell_type": "code",
   "execution_count": null,
   "metadata": {},
   "outputs": [],
   "source": [
    "!./run CHECK_SOLUTION PS7_1 $src1"
   ]
  },
  {
   "cell_type": "markdown",
   "metadata": {},
   "source": [
    "# Ejercicio 2 <a name=\"eje2\"></a>\n",
    "\n",
    "completa la siguiente clase para que implemente una cola con prioridades de forma que:\n",
    "\n",
    "- el método `put` añada elemnetos asociados a una prioridad\n",
    "- cada vez que se invoque el método `get` devuelva el elemento con la prioridad **más baja** y lo elimine de la cola.\n",
    "- si la cola no tiene elementos el método `get` ha de devolver `None`\n",
    "- el método `empty` ha de devolver `True` si la cola no tiene elementos y `False` si tiene alguno\n",
    "\n",
    "Nota: Revise la documentación de `heapq`"
   ]
  },
  {
   "cell_type": "code",
   "execution_count": null,
   "metadata": {},
   "outputs": [],
   "source": [
    "def PriorityQueue():\n",
    "    class _PriorityQueue:\n",
    "        def __init__(self):\n",
    "            self.elements = []\n",
    "\n",
    "        def empty(self):\n",
    "            return len(self.elements) == 0\n",
    "\n",
    "        def put(self, item, priority):\n",
    "            None\n",
    "            \n",
    "            \n",
    "\n",
    "        def get(self):\n",
    "            None\n",
    "            \n",
    "            \n",
    "\n",
    "    return _PriorityQueue()\n",
    "            \n",
    "import urllib, inspect\n",
    "src2 = urllib.quote_plus(inspect.getsource(PriorityQueue))"
   ]
  },
  {
   "cell_type": "markdown",
   "metadata": {},
   "source": [
    "verifica tu código. el siguiente ejemplo debe de recuperar los elementos en el siguiente orden:\n",
    "\n",
    "        c \n",
    "        a\n",
    "        b \n",
    "        None"
   ]
  },
  {
   "cell_type": "code",
   "execution_count": 7,
   "metadata": {},
   "outputs": [
    {
     "name": "stdout",
     "output_type": "stream",
     "text": [
      "c\n",
      "a\n",
      "b\n",
      "None\n"
     ]
    }
   ],
   "source": [
    "q = PriorityQueue()\n",
    "\n",
    "q.put(\"a\", 20)\n",
    "q.put(\"b\", 30)\n",
    "q.put(\"c\", 15)\n",
    "\n",
    "print q.get()\n",
    "print q.get()\n",
    "print q.get()\n",
    "print q.get()"
   ]
  },
  {
   "cell_type": "markdown",
   "metadata": {},
   "source": [
    "#### <span style=\"color:#FFF; background-color:#080; font-weight:bold; padding:4px;\">Importante</span> Evalue su respuesta."
   ]
  },
  {
   "cell_type": "code",
   "execution_count": null,
   "metadata": {},
   "outputs": [],
   "source": [
    "!./run CHECK_SOLUTION PS7_2 $src2"
   ]
  },
  {
   "cell_type": "markdown",
   "metadata": {},
   "source": [
    "# Ejercicio 3 <a name=\"eje3\"></a>\n",
    "\n",
    "observa el algoritmo de búsqueda **`cost_search`** que devuelve dos estructuras:\n",
    "\n",
    "- **`paths`**: un diccionario en el que, para cada posición, indica desde qué posición anterior se llegó con el menor coste desde la **posición inicial (0,0)**.\n",
    "- **`costs`**: un diccionario en el que, para cada posición, indica cual es el menor coste de los posibles caminos para llegar a dicha posición.\n",
    "\n",
    "*Nota: el coste de un camino es la longitud del mismo*\n",
    "\n",
    "Observa como, desde **`paths`**, se puede recuperar el camino de menor coste a cualquier posición empezando desde un target dado un *caminando hacia atrás*.\n",
    "\n",
    "Por ejemplo desde al target (2,4) (esquina inferior derecha), se llega desde el (2,3), y a este desde el (2,2), y a este desde el (1,2), y a este desde el (0,2) y a este desde el (0,1) y a este desde el (0,0). Con lo que el camino completo desde el (0,0) es el siguiente:\n",
    "\n",
    "    (0,0), (0,1), (0,2), (1,2), (2,2), (2,3), (2,4)\n",
    "    \n",
    "con un coste de 6.\n",
    "\n",
    "Completa la función **`recover_path`** más abajo para que dado `paths`, `costs` y una tupla representando una posición `target` devuelva\n",
    "\n",
    "- el camino especificado en `paths` para llegar a `target`\n",
    "- el coste del mismo\n",
    "\n",
    "por ejemplo, con los valores del ejemplo\n",
    "\n",
    "    > camino, coste = recover_path(path, cost, (2,4))\n",
    "    > print camino\n",
    "    > print coste\n",
    "    \n",
    "    [(0, 0), (0, 1), (0, 2), (1, 2), (2, 2), (2, 3), (2, 4)]\n",
    "    6"
   ]
  },
  {
   "cell_type": "code",
   "execution_count": 9,
   "metadata": {},
   "outputs": [
    {
     "data": {
      "text/plain": [
       "{(0, 0): None,\n",
       " (0, 1): (0, 0),\n",
       " (0, 2): (0, 1),\n",
       " (0, 3): (0, 2),\n",
       " (1, 2): (0, 2),\n",
       " (2, 2): (1, 2),\n",
       " (2, 3): (2, 2),\n",
       " (2, 4): (2, 3)}"
      ]
     },
     "execution_count": 9,
     "metadata": {},
     "output_type": "execute_result"
    }
   ],
   "source": [
    "my_grid = [\"....X\",\n",
    "           \"XX.XX\",\n",
    "           \".X..T\"]\n",
    "\n",
    "path, cost = cost_search(my_grid)\n",
    "path"
   ]
  },
  {
   "cell_type": "code",
   "execution_count": 10,
   "metadata": {},
   "outputs": [
    {
     "data": {
      "text/plain": [
       "{(0, 0): 0,\n",
       " (0, 1): 1,\n",
       " (0, 2): 2,\n",
       " (0, 3): 3,\n",
       " (1, 2): 3,\n",
       " (2, 2): 4,\n",
       " (2, 3): 5,\n",
       " (2, 4): 6}"
      ]
     },
     "execution_count": 10,
     "metadata": {},
     "output_type": "execute_result"
    }
   ],
   "source": [
    "cost"
   ]
  },
  {
   "cell_type": "markdown",
   "metadata": {},
   "source": [
    "### completa esta función"
   ]
  },
  {
   "cell_type": "code",
   "execution_count": null,
   "metadata": {},
   "outputs": [],
   "source": [
    "def recover_path(path, cost, target):\n",
    "\n",
    "    camino = ...\n",
    "    coste  = ...\n",
    "    return camino, coste\n",
    "\n",
    "import urllib, inspect\n",
    "src3 = urllib.quote_plus(inspect.getsource(recover_path))"
   ]
  },
  {
   "cell_type": "markdown",
   "metadata": {},
   "source": [
    "verifica tu código"
   ]
  },
  {
   "cell_type": "code",
   "execution_count": 12,
   "metadata": {},
   "outputs": [
    {
     "name": "stdout",
     "output_type": "stream",
     "text": [
      "[(0, 0), (0, 1), (0, 2), (1, 2), (2, 2), (2, 3), (2, 4)]\n",
      "6\n"
     ]
    }
   ],
   "source": [
    "camino, coste = recover_path(path, cost, (2,4))\n",
    "print camino\n",
    "print coste"
   ]
  },
  {
   "cell_type": "markdown",
   "metadata": {},
   "source": [
    "#### <span style=\"color:#FFF; background-color:#080; font-weight:bold; padding:4px;\">Importante</span> Evalue su respuesta."
   ]
  },
  {
   "cell_type": "code",
   "execution_count": null,
   "metadata": {},
   "outputs": [],
   "source": [
    "!./run CHECK_SOLUTION PS7_3 $src3"
   ]
  },
  {
   "cell_type": "markdown",
   "metadata": {},
   "source": [
    "#### <span style=\"color:#FFF; background-color:#080; font-weight:bold; padding:4px;\">Importante</span> Pasos Finales. \n",
    "\n",
    "#### 1. Guarde los cambios del taller:"
   ]
  },
  {
   "cell_type": "code",
   "execution_count": 1,
   "metadata": {},
   "outputs": [
    {
     "data": {
      "application/javascript": [
       "require([\"base/js/namespace\"],function(Jupyter) {\n",
       "    Jupyter.notebook.save_checkpoint();\n",
       "});"
      ],
      "text/plain": [
       "<IPython.core.display.Javascript object>"
      ]
     },
     "metadata": {},
     "output_type": "display_data"
    }
   ],
   "source": [
    "%%javascript\n",
    "require([\"base/js/namespace\"],function(Jupyter) {\n",
    "    Jupyter.notebook.save_checkpoint();\n",
    "});"
   ]
  },
  {
   "cell_type": "markdown",
   "metadata": {},
   "source": [
    "#### 2. Reemplace la variable con su código de estudiante"
   ]
  },
  {
   "cell_type": "code",
   "execution_count": null,
   "metadata": {},
   "outputs": [],
   "source": [
    "codigo = None"
   ]
  },
  {
   "cell_type": "markdown",
   "metadata": {},
   "source": [
    "#### 3. Ejecute la siguiente selda y envíe el archivo comprimido"
   ]
  },
  {
   "cell_type": "code",
   "execution_count": null,
   "metadata": {},
   "outputs": [],
   "source": [
    "!./empaquetar.sh $codigo"
   ]
  },
  {
   "cell_type": "markdown",
   "metadata": {
    "collapsed": true
   },
   "source": [
    "\n",
    "---\n",
    "# <center> Thanks! </center>"
   ]
  }
 ],
 "metadata": {
  "kernelspec": {
   "display_name": "Python 2",
   "language": "python",
   "name": "python2"
  },
  "language_info": {
   "codemirror_mode": {
    "name": "ipython",
    "version": 2
   },
   "file_extension": ".py",
   "mimetype": "text/x-python",
   "name": "python",
   "nbconvert_exporter": "python",
   "pygments_lexer": "ipython2",
   "version": "2.7.14"
  }
 },
 "nbformat": 4,
 "nbformat_minor": 2
}

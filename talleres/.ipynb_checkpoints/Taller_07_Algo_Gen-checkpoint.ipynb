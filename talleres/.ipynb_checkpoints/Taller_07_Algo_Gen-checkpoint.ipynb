{
 "cells": [
  {
   "cell_type": "markdown",
   "metadata": {},
   "source": [
    "<img src=\"../imgs/banner_IA.png\"  width=\"1000px\" height=\"200px\">\n",
    "\n",
    "# Taller 7: Algoritmos Genéticos: Knapsack Problem\n",
    "\n",
    "## <span style=\"color:red\"> Outline </span> \n",
    "\n",
    "1. [Ejercicio 1. Función de inicialización](#eje1)\n",
    "2. [Ejercicio 2. Función de coste](#eje2)\n",
    "3. [Ejercicio 3. Función de mutación](#eje3)"
   ]
  },
  {
   "cell_type": "code",
   "execution_count": 1,
   "metadata": {},
   "outputs": [],
   "source": [
    "!chmod 777 empaquetar.sh run utils/*"
   ]
  },
  {
   "cell_type": "markdown",
   "metadata": {},
   "source": [
    "### Resolviendo el problema de la mochila utilizando algoritmos geneticos\n",
    "\n",
    "<img src='../imgs/ks.jpg' style=\"width:700px;\">\n"
   ]
  },
  {
   "cell_type": "markdown",
   "metadata": {},
   "source": [
    "Tenemos $n$ objectos numerados del $0$ a $n-1$, con un tamaño $s_i$ y valor $v_i$ cada uno. Una solución cualquiera del problema es el vector $X=[x_0, x_2, ..., x_i, ... x_{n-1}]$, en donde $x_i \\in \\{0,1\\}$ indica si el objecto $i$ se incluye o no la mochila. Como la mochila tiene un volumen máximo, $KS_{vol}$ el problema se formula de la siguiente manera:\n",
    "\n",
    "$$ maximize \\; X \\;\\; \\sum_{i=0}^{n-1} x_i v_i$$\n",
    "\n",
    "$$subject \\; to \\;\\; \\sum_{i=0}^{n-1} x_i s_i \\le KS_{vol}$$\n",
    "\n",
    "El vector $S=[s_0, s_2, ..., s_i, ... s_{n-1}]$ representa los tamaños de todos los objectos y el vector $V=[v_0, v_2, ..., v_i, ... v_{n-1}]$, los valores.\n",
    "\n",
    "Fíjate a continuación cómo:\n",
    "\n",
    "- generamos vectores $S$ y $V$ aleatorios\n",
    "- generamos soluciones aleatorias\n",
    "- verificamos si las soluciones generadas son válidas"
   ]
  },
  {
   "cell_type": "code",
   "execution_count": 2,
   "metadata": {},
   "outputs": [
    {
     "name": "stdout",
     "output_type": "stream",
     "text": [
      "vals  [40 97 91 31 83 53 61 51 62 76]\n",
      "sizes [41 12 25 49 23  6 13 22 16  8]\n",
      "solution 0 [0 1 0 0 1 1 1 0 0 1] True\n",
      "solution 1 [0 0 0 1 0 0 0 0 1 0] True\n",
      "solution 2 [1 0 0 0 0 0 1 1 0 0] True\n",
      "solution 3 [0 0 1 0 1 0 0 1 0 0] True\n",
      "solution 4 [0 1 0 1 0 0 0 1 0 0] True\n",
      "solution 5 [1 0 1 0 0 0 0 1 0 0] True\n",
      "solution 6 [1 0 1 1 1 1 0 0 1 0] False\n",
      "solution 7 [1 0 1 1 1 0 0 0 1 0] False\n",
      "solution 8 [1 0 1 0 0 1 1 1 1 1] False\n",
      "solution 9 [0 0 0 1 0 0 0 1 0 0] True\n"
     ]
    }
   ],
   "source": [
    "import numpy as np\n",
    "import matplotlib.pyplot as plt\n",
    "%matplotlib inline\n",
    "\n",
    "n_objects         = 10\n",
    "max_object_value  = 100\n",
    "max_object_volume = 50\n",
    "KS_volume         = 100\n",
    "\n",
    "object_values  = np.random.randint(max_object_value-1, size=n_objects)+1\n",
    "object_volumes = np.random.randint(max_object_volume-1, size=n_objects)+1\n",
    "\n",
    "print \"vals \", object_values\n",
    "print \"sizes\", object_volumes\n",
    "\n",
    "def KS_isvalid(solution, object_volumes, KS_volume):\n",
    "    return np.sum(solution*object_volumes)<=KS_volume\n",
    "\n",
    "for i in range(10):\n",
    "    solution = np.random.randint(2, size=len(object_volumes))\n",
    "    print \"solution\", i, solution, KS_isvalid(solution, object_volumes, KS_volume)"
   ]
  },
  {
   "cell_type": "markdown",
   "metadata": {},
   "source": [
    "## <span style=\"color:orange\">student</span>: \n",
    "¿Cuál es la probabilidad de que una solución aleatoria sea válida?"
   ]
  },
  {
   "cell_type": "markdown",
   "metadata": {},
   "source": [
    "## Ejercicio 1: Inicialización de la población <a name=\"eje1\"></a>\n",
    "\n",
    "Crea una función para crear una población de soluciones aleatorias, teniendo en cuenta que: \n",
    "\n",
    "- **TODAS LAS SOLUCIONES HAN DE SER VÁLIDAS**.\n",
    "- Si crean soluciones aleatorias y las descartas si no son válidas seguramente tu código tarde mucho en generar la población si la probablidad de que una solución aleatoria sea válida es muy pequeña\n",
    "- Tu código ha de devolver un array numpy de números enteros\n",
    "\n",
    "Ejecución de ejemplo\n",
    "\n",
    "    n_objects         = 20\n",
    "    KS_volume         = 50\n",
    "    n_individuals     = 10\n",
    "    pop = KS_initialize_population(n_individuals, object_volumes, KS_volume)\n",
    "    print pop\n",
    "\n",
    "Salida esperada (la población es aleatoria, tu salida probablemente sea distinta)\n",
    "\n",
    "      [[0, 0, 0, 0, 0, 0, 0, 0, 0, 0, 0, 0, 0, 0, 0, 0, 0, 1, 0, 0],\n",
    "       [0, 0, 0, 0, 0, 0, 0, 1, 0, 0, 0, 0, 0, 0, 0, 0, 0, 0, 0, 0],\n",
    "       [0, 0, 0, 0, 0, 0, 0, 0, 0, 0, 0, 0, 1, 0, 0, 0, 0, 0, 0, 0],\n",
    "       [1, 0, 0, 0, 0, 0, 0, 0, 0, 0, 0, 0, 0, 1, 0, 0, 0, 0, 0, 0],\n",
    "       [0, 0, 0, 0, 0, 0, 0, 0, 0, 0, 1, 0, 0, 0, 0, 0, 0, 0, 0, 0],\n",
    "       [1, 0, 0, 0, 0, 0, 0, 0, 0, 0, 0, 0, 0, 0, 0, 0, 1, 0, 0, 0],\n",
    "       [0, 0, 0, 0, 0, 1, 0, 0, 0, 0, 0, 0, 0, 1, 0, 0, 0, 0, 0, 0],\n",
    "       [0, 0, 0, 0, 0, 0, 0, 0, 0, 0, 0, 0, 1, 0, 0, 0, 0, 0, 0, 1],\n",
    "       [0, 0, 1, 0, 0, 0, 0, 0, 0, 0, 0, 0, 0, 0, 0, 0, 0, 0, 0, 0],\n",
    "       [0, 1, 0, 0, 0, 0, 0, 0, 0, 0, 0, 0, 0, 0, 0, 0, 0, 0, 0, 0]])\n",
    "\n",
    "   "
   ]
  },
  {
   "cell_type": "code",
   "execution_count": 3,
   "metadata": {},
   "outputs": [],
   "source": [
    "def KS_initialize_population(n_individuals, object_volumes, KS_volume):\n",
    "    r = []\n",
    "\n",
    "    \n",
    "    \n",
    "    \n",
    "    \n",
    "    \n",
    "    \n",
    "    \n",
    "    return np.array(r)\n",
    "\n",
    "import urllib, inspect\n",
    "src1 = urllib.quote_plus(inspect.getsource(KS_initialize_population))"
   ]
  },
  {
   "cell_type": "markdown",
   "metadata": {},
   "source": [
    "Verifica tu código"
   ]
  },
  {
   "cell_type": "code",
   "execution_count": 39,
   "metadata": {},
   "outputs": [
    {
     "name": "stdout",
     "output_type": "stream",
     "text": [
      "Hay 0 soluciones inválidas de un total de 100 soluciones\n"
     ]
    }
   ],
   "source": [
    "n_objects         = 50\n",
    "max_object_value  = 100\n",
    "max_object_volume = 50\n",
    "KS_volume         = 50\n",
    "\n",
    "n_individuals     = 100\n",
    "\n",
    "object_values  = np.random.randint(max_object_value-1, size=n_objects)+1\n",
    "object_volumes = np.random.randint(max_object_volume-1, size=n_objects)+1\n",
    "\n",
    "pop = KS_initialize_population(n_individuals, object_volumes, KS_volume)\n",
    "\n",
    "n_invalid = int(np.sum([1 for i in pop if not KS_isvalid(i, object_volumes, KS_volume)]))\n",
    "\n",
    "print \"Hay\", n_invalid, \"soluciones inválidas de un total de\", len(pop), \"soluciones\""
   ]
  },
  {
   "cell_type": "markdown",
   "metadata": {},
   "source": [
    "#### <span style=\"color:#FFF; background-color:#080; font-weight:bold; padding:4px;\">Importante</span> Evalue su respuesta."
   ]
  },
  {
   "cell_type": "code",
   "execution_count": null,
   "metadata": {},
   "outputs": [],
   "source": [
    "!./run CHECK_SOLUTION PS8_1 $src1"
   ]
  },
  {
   "cell_type": "markdown",
   "metadata": {},
   "source": [
    "## Ejercicio 2: Función de coste <a name=\"eje2\"></a>\n",
    "\n",
    "El valor máximo que tendríamos si pudiéramos incluir todos los objetos en la mochila sería $V_{max}=\\sum v_i$. El volumen de los objetos incluidos en una solución $X$ es $S(X)=\\sum s_i x_i$. El valor de todos los objetos incluidos en una solución es $V(X)=\\sum v_i x_i$\n",
    "\n",
    "Crea una función de coste de manera que valores altos de las combinaciones de objetos representen un coste bajo, siempre y cuando no excedan la capacidad de la mochila. Observa que nuestra implementación de GA **MINIMIZA** un coste y nosotros queremos **MAXIMIZAR** un valor.\n",
    "\n",
    "\n",
    "$$    KS\\_cost(X)=\\left\\{\n",
    "                \\begin{array}{ll}\n",
    "                  V_{max} - V(X) & si \\;\\; S(X) \\le KS_{vol}\\\\\n",
    "                  V_{max} & si \\;\\; S(X) \\gt KS_{vol}\\\\\n",
    "                \\end{array}\n",
    "              \\right.\n",
    "              $$"
   ]
  },
  {
   "cell_type": "code",
   "execution_count": 41,
   "metadata": {},
   "outputs": [],
   "source": [
    "def KS_cost(solution, object_values, object_volumes, KS_volume):\n",
    "    max_value = ....\n",
    "    return \n",
    "    \n",
    "import urllib, inspect\n",
    "src2 = urllib.quote_plus(inspect.getsource(KS_cost))"
   ]
  },
  {
   "cell_type": "markdown",
   "metadata": {},
   "source": [
    "Comprueba tu código. La gráfica generada tiene que tener aproximadamente la siguiente forma:"
   ]
  },
  {
   "cell_type": "markdown",
   "metadata": {},
   "source": [
    "<img src='../imgs/kscost.jpg' style=\"width:500px;\">\n"
   ]
  },
  {
   "cell_type": "code",
   "execution_count": 42,
   "metadata": {},
   "outputs": [
    {
     "data": {
      "text/plain": [
       "<matplotlib.collections.PathCollection at 0x7feb2eb2b110>"
      ]
     },
     "execution_count": 42,
     "metadata": {},
     "output_type": "execute_result"
    },
    {
     "data": {
      "image/png": "[encoded data removed]",
      "text/plain": [
       "<matplotlib.figure.Figure at 0x7feb5b07fd50>"
      ]
     },
     "metadata": {},
     "output_type": "display_data"
    }
   ],
   "source": [
    "n_objects         = 10\n",
    "max_object_value  = 100\n",
    "max_object_volume = 40\n",
    "KS_volume         = 150\n",
    "\n",
    "n_individuals     = 1000\n",
    "\n",
    "object_values  = np.random.randint(max_object_value-1, size=n_objects)+1\n",
    "object_volumes = np.random.randint(max_object_volume-1, size=n_objects)+1\n",
    "\n",
    "pop = KS_initialize_population(n_individuals, object_volumes, KS_volume)\n",
    "\n",
    "pop = np.random.randint(2, size=(n_individuals, len(object_volumes)))\n",
    "\n",
    "vols = [np.sum(i*object_volumes) for i in pop]\n",
    "costs = [KS_cost(i, object_values, object_volumes, KS_volume) for i in pop]\n",
    "\n",
    "plt.scatter(vols, costs)"
   ]
  },
  {
   "cell_type": "markdown",
   "metadata": {},
   "source": [
    "#### <span style=\"color:#FFF; background-color:#080; font-weight:bold; padding:4px;\">Importante</span> Evalue su respuesta."
   ]
  },
  {
   "cell_type": "code",
   "execution_count": null,
   "metadata": {},
   "outputs": [],
   "source": [
    "!./run CHECK_SOLUTION PS8_2 $src2"
   ]
  },
  {
   "cell_type": "markdown",
   "metadata": {},
   "source": [
    "## Ejercicio 3: Función de mutación <a name=\"eje3\"></a>\n",
    "\n",
    "Crea una función de mutación que, con probabilidad $mutation\\_prob$ genere una mutación **VALIDA** de un bit de una solución.\n",
    "\n",
    "Ejemplo de ejecución:\n",
    "\n",
    "    sol = np.array([0 0 0 0 1 0 1 1 0 0])\n",
    "    print KS_mutate(pop[1], 0.9, object_volumes, KS_volume)\n",
    "    \n",
    "Salida esperada (sujeto a procesos aleatorios):\n",
    "\n",
    "    > [0 0 0 0 1 0 1 0 0 0]"
   ]
  },
  {
   "cell_type": "code",
   "execution_count": 43,
   "metadata": {},
   "outputs": [],
   "source": [
    "def KS_mutate(solution, mutation_prob, object_volumes, KS_volume):\n",
    "    mutated_solution = ....\n",
    "\n",
    "    \n",
    "    \n",
    "    \n",
    "    \n",
    "    \n",
    "    \n",
    "    return solution\n",
    "\n",
    "import urllib, inspect\n",
    "src3 = urllib.quote_plus(inspect.getsource(KS_mutate))"
   ]
  },
  {
   "cell_type": "markdown",
   "metadata": {},
   "source": [
    "Comprueba tu código"
   ]
  },
  {
   "cell_type": "code",
   "execution_count": 44,
   "metadata": {},
   "outputs": [
    {
     "name": "stdout",
     "output_type": "stream",
     "text": [
      "original              mutada                diferencia\n",
      "[0 1 1 0 0 1 0 1 0 1] [0 1 1 0 0 1 0 1 0 1] 0\n",
      "[1 1 0 1 1 0 0 1 1 1] [1 1 0 1 1 0 0 1 1 1] 0\n",
      "[1 0 0 1 1 1 1 0 0 1] [1 0 0 1 1 1 1 0 0 1] 0\n",
      "[0 1 0 0 0 0 0 0 0 0] [0 1 0 0 0 0 0 0 0 0] 0\n",
      "[1 0 0 0 0 0 0 0 0 0] [1 0 0 0 0 0 0 0 0 0] 0\n"
     ]
    }
   ],
   "source": [
    "object_values  = np.array([22, 19, 49, 32, 66, 86, 51, 94, 33, 33])\n",
    "object_volumes = np.array([ 6, 36,  8, 14, 12, 19, 27,  4, 15,  4])\n",
    "KS_volume      = 150\n",
    "\n",
    "pop  = np.array([[0, 1, 1, 0, 0, 1, 0, 1, 0, 1],\n",
    "                 [1, 1, 0, 1, 1, 0, 0, 1, 1, 1], \n",
    "                 [1, 0, 0, 1, 1, 1, 1, 0, 0, 1],\n",
    "                 [0, 1, 0, 0, 0, 0, 0, 0, 0, 0],\n",
    "                 [1, 0, 0, 0, 0, 0, 0, 0, 0, 0]])    \n",
    "mutation_prob     = 0.1\n",
    "\n",
    "print \"original              mutada                diferencia\"\n",
    "for i in pop:\n",
    "    m = KS_mutate(i, mutation_prob, object_volumes, KS_volume)\n",
    "    print m, i, np.sum((m-i)**2)\n",
    "\n"
   ]
  },
  {
   "cell_type": "markdown",
   "metadata": {},
   "source": [
    "#### <span style=\"color:#FFF; background-color:#080; font-weight:bold; padding:4px;\">Importante</span> Evalue su respuesta."
   ]
  },
  {
   "cell_type": "code",
   "execution_count": null,
   "metadata": {},
   "outputs": [],
   "source": [
    "!./run CHECK_SOLUTION PS8_3 $src3"
   ]
  },
  {
   "cell_type": "markdown",
   "metadata": {},
   "source": [
    "## Usaremos la siguiente función de _crossover_"
   ]
  },
  {
   "cell_type": "code",
   "execution_count": 13,
   "metadata": {},
   "outputs": [],
   "source": [
    "def KS_cross_over(solution1, solution2):\n",
    "    l = len(solution1)\n",
    "    cstart = np.random.randint(l)\n",
    "    cend   = np.random.randint(l-cstart)+cstart+1\n",
    "\n",
    "    r = np.zeros(l).astype(int)\n",
    "    r[:cstart]     = solution1[:cstart]\n",
    "    r[cstart:cend] = solution2[cstart:cend]\n",
    "    r[cend:]       = solution1[cend:]            \n",
    "    return r"
   ]
  },
  {
   "cell_type": "markdown",
   "metadata": {},
   "source": [
    "## Creamos un problema KS con volúmenes y valores para objetos"
   ]
  },
  {
   "cell_type": "code",
   "execution_count": 14,
   "metadata": {},
   "outputs": [
    {
     "name": "stdout",
     "output_type": "stream",
     "text": [
      "total volume of objects 1159\n",
      "knapsack max volume     100\n",
      "total value of objects  2273\n",
      "[36 20 47 53 55 46 48 66  1  6 13 59 95  7 54 32 76 63 76 19  2 17 16 12 78\n",
      " 67 44 20 41 26 24 68 55 53 35 49 46 46 16 64 41 27  8 30 76 92 85 81 84 98]\n",
      "[ 8 47 16  8 41 11 45 34 26 48 16  8 10 13 28  6  7 11  8 27 44 30 25 23 45\n",
      "  3 12 12 23  3 37 10 47 46 27 10 30  8  2 47  4 44 43 37 22 20  1 17 42 27]\n"
     ]
    }
   ],
   "source": [
    "%run ../code/ga.py\n",
    "import numpy as np\n",
    "import matplotlib.pyplot as plt\n",
    "%matplotlib inline\n",
    "\n",
    "n_objects         = 50\n",
    "KS_volume         = 100\n",
    "mutation_prob     = 0.1\n",
    "crossover_prob    = 0.5\n",
    "\n",
    "object_values  = np.array([36, 20, 47, 53, 55, 46, 48, 66,  1,  6, 13, 59, 95,  7, 54, 32, 76, 63, 76, 19,  2, 17, 16, 12, 78,\n",
    " 67, 44, 20, 41, 26, 24, 68, 55, 53, 35, 49, 46, 46, 16, 64, 41, 27,  8, 30, 76, 92, 85, 81, 84, 98])\n",
    "object_volumes = np.array([ 8, 47, 16,  8, 41, 11, 45, 34, 26, 48, 16,  8, 10, 13, 28,  6,  7, 11,  8, 27, 44, 30, 25, 23, 45,\n",
    "  3, 12, 12, 23,  3, 37, 10, 47, 46, 27, 10, 30,  8,  2, 47,  4, 44, 43, 37, 22, 20,  1, 17, 42, 27])\n",
    "\n",
    "\n",
    "print \"total volume of objects\", np.sum(object_volumes)\n",
    "print \"knapsack max volume    \", KS_volume\n",
    "print \"total value of objects \", np.sum(object_values)\n",
    "\n",
    "print object_values\n",
    "print object_volumes"
   ]
  },
  {
   "cell_type": "markdown",
   "metadata": {},
   "source": [
    "## Y vemos cómo se comporta con distintos valores de las probabilidades de mutación y crossover\n",
    "\n",
    "Deberemos de observar cómo el problema está dominado por la probabilidad de mutación"
   ]
  },
  {
   "cell_type": "code",
   "execution_count": 15,
   "metadata": {},
   "outputs": [
    {
     "data": {
      "application/vnd.jupyter.widget-view+json": {
       "model_id": "c7ce6bd27ac34868b67e614f961a47ea",
       "version_major": 2,
       "version_minor": 0
      },
      "text/plain": [
       "HBox(children=(IntProgress(value=0), HTML(value=u'')))"
      ]
     },
     "metadata": {},
     "output_type": "display_data"
    },
    {
     "name": "stdout",
     "output_type": "stream",
     "text": [
      "\n",
      "best knapsack is [0 0 0 1 0 0 0 0 0 0 0 1 1 0 0 1 1 1 1 0 0 0 0 0 0 1 0 0 0 1 0 1 0 0 0 1 0\n",
      " 1 1 0 1 0 0 0 0 0 1 0 0 0] cost 1421 value 852 volume 99\n"
     ]
    },
    {
     "data": {
      "image/png": "[encoded data removed]",
      "text/plain": [
       "<matplotlib.figure.Figure at 0x7f8520230050>"
      ]
     },
     "metadata": {},
     "output_type": "display_data"
    }
   ],
   "source": [
    "r =  run_ga(pop_size=100, \n",
    "               init_population_function = lambda x: KS_initialize_population(x, object_volumes, KS_volume), \n",
    "               mutation_function        = lambda x,y: KS_mutate(x, y, object_volumes, KS_volume), \n",
    "               crossover_function       = KS_cross_over,\n",
    "               cost_function            = lambda x: KS_cost(x, object_values, object_volumes, KS_volume), \n",
    "               crossover_prob           = 0.5,\n",
    "               mutation_prob            = 0.5, \n",
    "               n_iters                  = 100)\n",
    "\n",
    "best, best_costs, means, stds = r\n",
    "print \"best knapsack is\", best, \"cost\", np.min(best_costs), \"value\", np.sum(best*object_values), \"volume\", np.sum(best*object_volumes)\n",
    "plot_evolution(best_costs, means, stds)"
   ]
  },
  {
   "cell_type": "code",
   "execution_count": 16,
   "metadata": {},
   "outputs": [
    {
     "data": {
      "application/vnd.jupyter.widget-view+json": {
       "model_id": "77b0cc2d59fb4974b4b663f70d3fbc94",
       "version_major": 2,
       "version_minor": 0
      },
      "text/plain": [
       "HBox(children=(IntProgress(value=0, max=400), HTML(value=u'')))"
      ]
     },
     "metadata": {},
     "output_type": "display_data"
    },
    {
     "name": "stdout",
     "output_type": "stream",
     "text": [
      "\n",
      "best knapsack is [1 0 0 1 0 0 0 0 0 0 0 1 1 0 0 1 1 1 1 0 0 0 0 0 0 1 0 0 0 1 0 1 0 0 0 0 0\n",
      " 1 1 0 0 0 0 0 0 0 1 0 0 0] cost 1475 value 798 volume 93\n"
     ]
    },
    {
     "data": {
      "image/png": "[encoded data removed]",
      "text/plain": [
       "<matplotlib.figure.Figure at 0x7f85202236d0>"
      ]
     },
     "metadata": {},
     "output_type": "display_data"
    }
   ],
   "source": [
    "r =  run_ga(pop_size=100, \n",
    "               init_population_function = lambda x: KS_initialize_population(x, object_volumes, KS_volume), \n",
    "               mutation_function        = lambda x,y: KS_mutate(x, y, object_volumes, KS_volume), \n",
    "               crossover_function       = KS_cross_over,\n",
    "               cost_function            = lambda x: KS_cost(x, object_values, object_volumes, KS_volume), \n",
    "               crossover_prob           = 0.9,\n",
    "               mutation_prob            = 0.9, \n",
    "               n_iters                  = 400)\n",
    "\n",
    "best, best_costs, means, stds = r\n",
    "print \"best knapsack is\", best, \"cost\", np.min(best_costs), \"value\", np.sum(best*object_values), \"volume\", np.sum(best*object_volumes)\n",
    "plot_evolution(best_costs, means, stds)"
   ]
  },
  {
   "cell_type": "code",
   "execution_count": 17,
   "metadata": {},
   "outputs": [
    {
     "data": {
      "application/vnd.jupyter.widget-view+json": {
       "model_id": "d835d897b90140fca635067cfd589c91",
       "version_major": 2,
       "version_minor": 0
      },
      "text/plain": [
       "HBox(children=(IntProgress(value=0, max=400), HTML(value=u'')))"
      ]
     },
     "metadata": {},
     "output_type": "display_data"
    },
    {
     "name": "stdout",
     "output_type": "stream",
     "text": [
      "\n",
      "best knapsack is [1 0 0 1 0 0 0 0 0 0 0 1 1 0 0 0 1 0 1 0 0 0 0 0 0 1 0 0 0 1 0 1 0 0 0 0 0\n",
      " 1 0 0 1 0 0 0 0 1 1 0 0 0] cost 1453 value 820 volume 98\n"
     ]
    },
    {
     "data": {
      "image/png": "[encoded data removed]",
      "text/plain": [
       "<matplotlib.figure.Figure at 0x7f84f4575750>"
      ]
     },
     "metadata": {},
     "output_type": "display_data"
    }
   ],
   "source": [
    "r =  run_ga(pop_size=100, \n",
    "               init_population_function = lambda x: KS_initialize_population(x, object_volumes, KS_volume), \n",
    "               mutation_function        = lambda x,y: KS_mutate(x, y, object_volumes, KS_volume), \n",
    "               crossover_function       = KS_cross_over,\n",
    "               cost_function            = lambda x: KS_cost(x, object_values, object_volumes, KS_volume), \n",
    "               crossover_prob           = 0.1,\n",
    "               mutation_prob            = 0.1, \n",
    "               n_iters                  = 400)\n",
    "\n",
    "best, best_costs, means, stds = r\n",
    "print \"best knapsack is\", best, \"cost\", np.min(best_costs), \"value\", np.sum(best*object_values), \"volume\", np.sum(best*object_volumes)\n",
    "plot_evolution(best_costs, means, stds)"
   ]
  },
  {
   "cell_type": "code",
   "execution_count": 18,
   "metadata": {},
   "outputs": [
    {
     "data": {
      "application/vnd.jupyter.widget-view+json": {
       "model_id": "403b1f0cb51d45669dde5bba9680ccbe",
       "version_major": 2,
       "version_minor": 0
      },
      "text/plain": [
       "HBox(children=(IntProgress(value=0, max=400), HTML(value=u'')))"
      ]
     },
     "metadata": {},
     "output_type": "display_data"
    },
    {
     "name": "stdout",
     "output_type": "stream",
     "text": [
      "\n",
      "best knapsack is [0 0 0 1 0 0 0 0 0 0 0 1 1 0 0 1 1 1 1 0 0 0 0 0 0 1 0 0 0 1 0 1 0 0 0 1 0\n",
      " 1 1 0 1 0 0 0 0 0 1 0 0 0] cost 1421 value 852 volume 99\n"
     ]
    },
    {
     "data": {
      "image/png": "[encoded data removed]",
      "text/plain": [
       "<matplotlib.figure.Figure at 0x7f84f1b5ba10>"
      ]
     },
     "metadata": {},
     "output_type": "display_data"
    }
   ],
   "source": [
    "r =  run_ga(pop_size=100, \n",
    "               init_population_function = lambda x: KS_initialize_population(x, object_volumes, KS_volume), \n",
    "               mutation_function        = lambda x,y: KS_mutate(x, y, object_volumes, KS_volume), \n",
    "               crossover_function       = KS_cross_over,\n",
    "               cost_function            = lambda x: KS_cost(x, object_values, object_volumes, KS_volume), \n",
    "               crossover_prob           = 0.1,\n",
    "               mutation_prob            = 1.0, \n",
    "               n_iters                  = 400)\n",
    "\n",
    "best, best_costs, means, stds = r\n",
    "print \"best knapsack is\", best, \"cost\", np.min(best_costs), \"value\", np.sum(best*object_values), \"volume\", np.sum(best*object_volumes)\n",
    "plot_evolution(best_costs, means, stds)"
   ]
  },
  {
   "cell_type": "markdown",
   "metadata": {},
   "source": [
    "---\n",
    "\n",
    "#### <span style=\"color:#FFF; background-color:#080; font-weight:bold; padding:4px;\">Importante</span> Pasos Finales. \n",
    "\n",
    "#### 1. Guarde los cambios del taller:"
   ]
  },
  {
   "cell_type": "code",
   "execution_count": null,
   "metadata": {},
   "outputs": [],
   "source": [
    "%%javascript\n",
    "require([\"base/js/namespace\"],function(Jupyter) {\n",
    "    Jupyter.notebook.save_checkpoint();\n",
    "});"
   ]
  },
  {
   "cell_type": "markdown",
   "metadata": {},
   "source": [
    "#### 2. Reemplace la variable con su código de estudiante"
   ]
  },
  {
   "cell_type": "code",
   "execution_count": null,
   "metadata": {},
   "outputs": [],
   "source": [
    "codigo = None"
   ]
  },
  {
   "cell_type": "markdown",
   "metadata": {},
   "source": [
    "#### 3. Ejecute la siguiente selda y envíe el archivo comprimido"
   ]
  },
  {
   "cell_type": "code",
   "execution_count": null,
   "metadata": {},
   "outputs": [],
   "source": [
    "!./empaquetar.sh $codigo"
   ]
  },
  {
   "cell_type": "markdown",
   "metadata": {
    "collapsed": true
   },
   "source": [
    "\n",
    "---\n",
    "# <center> Thanks! </center>"
   ]
  }
 ],
 "metadata": {
  "kernelspec": {
   "display_name": "Python 2",
   "language": "python",
   "name": "python2"
  },
  "language_info": {
   "codemirror_mode": {
    "name": "ipython",
    "version": 2
   },
   "file_extension": ".py",
   "mimetype": "text/x-python",
   "name": "python",
   "nbconvert_exporter": "python",
   "pygments_lexer": "ipython2",
   "version": "2.7.14"
  },
  "toc": {
   "toc_cell": false,
   "toc_number_sections": true,
   "toc_threshold": 6,
   "toc_window_display": false
  }
 },
 "nbformat": 4,
 "nbformat_minor": 1
}

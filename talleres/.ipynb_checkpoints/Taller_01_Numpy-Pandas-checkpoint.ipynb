{
 "cells": [
  {
   "cell_type": "markdown",
   "metadata": {},
   "source": [
    "<img src=\"../imgs/banner_IA.png\"  width=\"1000px\" height=\"200px\">\n",
    "\n",
    "# Taller 01: Python, Numpy and Pandas\n",
    "\n",
    "## <span style=\"color:red\"> Outline </span> \n",
    "\n",
    "1. [Ejercicio 1. numpy](#eje1)\n",
    "2. [Ejercicio 2. numpy](#eje2)\n",
    "3. [Ejercicio 3. pandas](#eje5)\n",
    "4. [Ejercicio 4. pandas](#eje6)\n",
    "5. [Ejercicio 5. pandas](#eje7)\n",
    "\n",
    "\n",
    "\n",
    "\n",
    "#### <font style=\"color: red\"> Esta práctica contiene 2 ejercicios <!-- ONLY IN NOTEBOOK -->\n",
    "\n",
    "<h2><span style=\"color:#FFF; background-color:#F00; font-weight:bold; padding:4px;\">¡IMPORTANTE!</span> Ejecute esta celda para iniciar la actividad</h2>"
   ]
  },
  {
   "cell_type": "code",
   "execution_count": 3,
   "metadata": {},
   "outputs": [],
   "source": [
    "import numpy as np\n",
    "from scipy import stats\n",
    "import matplotlib.pyplot as plt\n",
    "import pandas as pd"
   ]
  },
  {
   "cell_type": "code",
   "execution_count": 155,
   "metadata": {},
   "outputs": [],
   "source": [
    "!chmod 777 empaquetar.sh run utils/*"
   ]
  },
  {
   "cell_type": "markdown",
   "metadata": {},
   "source": [
    "<h2><span style=\"color:#FFF; background-color:#F00; font-weight:bold; padding:4px;\">¡IMPORTANTE!</span></h2><br><h2 style=\"margin-top:-10px;\">Usted debe ejecutar <span style=\"color:#F00;\">TODAS</span> las celdas de tipo <span style=\"color:#F00;\">CODE</span>. De lo contrario, sus respuestas no serán procesadas correctamente.</h2>"
   ]
  },
  {
   "cell_type": "markdown",
   "metadata": {},
   "source": [
    "---\n",
    "\n",
    "### Ejercicio 1  <a name=\"eje1\"></a>\n",
    "\n",
    "Calcula las siguientes medidas utilizando las funciones de numpy correspondiente, dado un vector numpy de entrada.\n",
    "-  Mean $$\\mu  = \\frac{1}{n} \\sum_{i=1}^{n} x^{(i)}$$\n",
    "- Mediana: cuando el total de datos $n$ es impar, la mediana es $(\\frac{n+1}{2})^{th}$ término. Cuando $n$ es par, es $\\frac{(\\frac{n}{2})^{th}+(\\frac{n+1}{2})^{th}}{2}$\n",
    "- El elemento con mayor frecuencia en el arreglo.\n",
    "\n",
    "Donde $x^{(i)}$ representa cada número del conjunto de datos. "
   ]
  },
  {
   "cell_type": "code",
   "execution_count": 6,
   "metadata": {},
   "outputs": [],
   "source": [
    "def fun_eje_1_1(x):\n",
    "    import numpy as np\n",
    "    \n",
    "    mean = None\n",
    "    median = None\n",
    "    freq   = None\n",
    "    \n",
    "    \n",
    "    return mean, median, freq\n",
    "\n",
    "import urllib, inspect\n",
    "src1 = urllib.quote_plus(inspect.getsource(fun_eje_1_1))"
   ]
  },
  {
   "cell_type": "markdown",
   "metadata": {},
   "source": [
    "salida esperada"
   ]
  },
  {
   "cell_type": "code",
   "execution_count": 7,
   "metadata": {},
   "outputs": [
    {
     "data": {
      "text/plain": [
       "(1.6666666666666667, 1.5, 1)"
      ]
     },
     "execution_count": 7,
     "metadata": {},
     "output_type": "execute_result"
    }
   ],
   "source": [
    "x = np.array([1,2,3,1,2,1,1,1,3,2,2,1])\n",
    "fun_eje_1_1(x)"
   ]
  },
  {
   "cell_type": "markdown",
   "metadata": {},
   "source": [
    "#### <span style=\"color:#FFF; background-color:#080; font-weight:bold; padding:4px;\">Importante</span> Evalue su respuesta."
   ]
  },
  {
   "cell_type": "code",
   "execution_count": null,
   "metadata": {},
   "outputs": [],
   "source": [
    "!./run CHECK_SOLUTION PS1_1 $src1"
   ]
  },
  {
   "cell_type": "markdown",
   "metadata": {},
   "source": [
    "---\n",
    "\n",
    "### Ejercicio 2  <a name=\"eje2\"></a>\n",
    "\n",
    "Dados dos arreglos correspondiente a información de los estudiantes: `s_bird` y `s_grade`. Retorne los arreglos ordenados utilizando como primer criterio la nota (*grade*), y segundo criterio la fecha de nacimiento (*bird*)"
   ]
  },
  {
   "cell_type": "code",
   "execution_count": 72,
   "metadata": {},
   "outputs": [],
   "source": [
    "def fun_eje_1_2(s_bird, s_grade):\n",
    "    \n",
    "    \n",
    "    return ss_bird, ss_grade\n",
    "\n",
    "import urllib, inspect\n",
    "src2 = urllib.quote_plus(inspect.getsource(fun_eje_1_2))"
   ]
  },
  {
   "cell_type": "markdown",
   "metadata": {},
   "source": [
    "salida esperada"
   ]
  },
  {
   "cell_type": "code",
   "execution_count": 77,
   "metadata": {},
   "outputs": [
    {
     "data": {
      "text/plain": [
       "(array([ 1980.,  1990.,  1995.,  1995.,  1997.,  1983.,  2000.]),\n",
       " array([ 1. ,  2.5,  3.8,  4.1,  4.1,  4.2,  4.2]))"
      ]
     },
     "execution_count": 77,
     "metadata": {},
     "output_type": "execute_result"
    }
   ],
   "source": [
    "s_id = np.array([1980, 1983, 1990, 1995, 1995, 1997, 2000])\n",
    "s_bird =  np.array([1.0, 4.2, 2.5, 4.1, 3.8, 4.1, 4.2])\n",
    "fun_eje_1_2(s_id, s_bird )"
   ]
  },
  {
   "cell_type": "markdown",
   "metadata": {},
   "source": [
    "#### <span style=\"color:#FFF; background-color:#080; font-weight:bold; padding:4px;\">Importante</span> Evalue su respuesta."
   ]
  },
  {
   "cell_type": "code",
   "execution_count": null,
   "metadata": {},
   "outputs": [],
   "source": [
    "!./run CHECK_SOLUTION PS1_2 $src2"
   ]
  },
  {
   "cell_type": "markdown",
   "metadata": {},
   "source": [
    "---\n",
    "\n",
    "### Ejercicio 3  (Pandas) <a name=\"eje5\"></a>\n",
    "\n",
    "Escriba una función que reciba como argumento un dataframe. La función debe calcular por cada fila el mínimo sobre el máximo de cada fila, es decir: \n",
    "\n",
    "$$R_i = \\frac{\\min(R_i)}{\\max(R_i)}$$\n",
    "\n",
    "Retorne el objeto `Series` correspondiente\n"
   ]
  },
  {
   "cell_type": "code",
   "execution_count": 152,
   "metadata": {},
   "outputs": [],
   "source": [
    "def fun_eje_1_3(df):\n",
    " \n",
    "    return res\n",
    "\n",
    "import urllib, inspect\n",
    "src3 = urllib.quote_plus(inspect.getsource(fun_eje_1_3))"
   ]
  },
  {
   "cell_type": "code",
   "execution_count": 16,
   "metadata": {},
   "outputs": [
    {
     "name": "stdout",
     "output_type": "stream",
     "text": [
      "(8, 10)\n"
     ]
    },
    {
     "data": {
      "text/html": [
       "<div>\n",
       "<style scoped>\n",
       "    .dataframe tbody tr th:only-of-type {\n",
       "        vertical-align: middle;\n",
       "    }\n",
       "\n",
       "    .dataframe tbody tr th {\n",
       "        vertical-align: top;\n",
       "    }\n",
       "\n",
       "    .dataframe thead th {\n",
       "        text-align: right;\n",
       "    }\n",
       "</style>\n",
       "<table border=\"1\" class=\"dataframe\">\n",
       "  <thead>\n",
       "    <tr style=\"text-align: right;\">\n",
       "      <th></th>\n",
       "      <th>0</th>\n",
       "      <th>1</th>\n",
       "      <th>2</th>\n",
       "      <th>3</th>\n",
       "      <th>4</th>\n",
       "      <th>5</th>\n",
       "      <th>6</th>\n",
       "      <th>7</th>\n",
       "      <th>8</th>\n",
       "      <th>9</th>\n",
       "    </tr>\n",
       "  </thead>\n",
       "  <tbody>\n",
       "    <tr>\n",
       "      <th>0</th>\n",
       "      <td>35</td>\n",
       "      <td>49</td>\n",
       "      <td>78</td>\n",
       "      <td>28</td>\n",
       "      <td>46</td>\n",
       "      <td>43</td>\n",
       "      <td>44</td>\n",
       "      <td>72</td>\n",
       "      <td>47</td>\n",
       "      <td>36</td>\n",
       "    </tr>\n",
       "    <tr>\n",
       "      <th>1</th>\n",
       "      <td>29</td>\n",
       "      <td>54</td>\n",
       "      <td>52</td>\n",
       "      <td>87</td>\n",
       "      <td>32</td>\n",
       "      <td>64</td>\n",
       "      <td>69</td>\n",
       "      <td>19</td>\n",
       "      <td>29</td>\n",
       "      <td>64</td>\n",
       "    </tr>\n",
       "    <tr>\n",
       "      <th>2</th>\n",
       "      <td>54</td>\n",
       "      <td>57</td>\n",
       "      <td>77</td>\n",
       "      <td>89</td>\n",
       "      <td>1</td>\n",
       "      <td>74</td>\n",
       "      <td>41</td>\n",
       "      <td>31</td>\n",
       "      <td>65</td>\n",
       "      <td>23</td>\n",
       "    </tr>\n",
       "    <tr>\n",
       "      <th>3</th>\n",
       "      <td>75</td>\n",
       "      <td>78</td>\n",
       "      <td>18</td>\n",
       "      <td>50</td>\n",
       "      <td>8</td>\n",
       "      <td>40</td>\n",
       "      <td>46</td>\n",
       "      <td>97</td>\n",
       "      <td>36</td>\n",
       "      <td>89</td>\n",
       "    </tr>\n",
       "    <tr>\n",
       "      <th>4</th>\n",
       "      <td>15</td>\n",
       "      <td>76</td>\n",
       "      <td>19</td>\n",
       "      <td>72</td>\n",
       "      <td>87</td>\n",
       "      <td>9</td>\n",
       "      <td>45</td>\n",
       "      <td>55</td>\n",
       "      <td>97</td>\n",
       "      <td>83</td>\n",
       "    </tr>\n",
       "    <tr>\n",
       "      <th>5</th>\n",
       "      <td>34</td>\n",
       "      <td>74</td>\n",
       "      <td>48</td>\n",
       "      <td>1</td>\n",
       "      <td>8</td>\n",
       "      <td>58</td>\n",
       "      <td>44</td>\n",
       "      <td>34</td>\n",
       "      <td>31</td>\n",
       "      <td>7</td>\n",
       "    </tr>\n",
       "    <tr>\n",
       "      <th>6</th>\n",
       "      <td>22</td>\n",
       "      <td>61</td>\n",
       "      <td>43</td>\n",
       "      <td>34</td>\n",
       "      <td>67</td>\n",
       "      <td>86</td>\n",
       "      <td>16</td>\n",
       "      <td>58</td>\n",
       "      <td>74</td>\n",
       "      <td>47</td>\n",
       "    </tr>\n",
       "    <tr>\n",
       "      <th>7</th>\n",
       "      <td>25</td>\n",
       "      <td>39</td>\n",
       "      <td>65</td>\n",
       "      <td>68</td>\n",
       "      <td>32</td>\n",
       "      <td>57</td>\n",
       "      <td>83</td>\n",
       "      <td>91</td>\n",
       "      <td>84</td>\n",
       "      <td>24</td>\n",
       "    </tr>\n",
       "  </tbody>\n",
       "</table>\n",
       "</div>"
      ],
      "text/plain": [
       "    0   1   2   3   4   5   6   7   8   9\n",
       "0  35  49  78  28  46  43  44  72  47  36\n",
       "1  29  54  52  87  32  64  69  19  29  64\n",
       "2  54  57  77  89   1  74  41  31  65  23\n",
       "3  75  78  18  50   8  40  46  97  36  89\n",
       "4  15  76  19  72  87   9  45  55  97  83\n",
       "5  34  74  48   1   8  58  44  34  31   7\n",
       "6  22  61  43  34  67  86  16  58  74  47\n",
       "7  25  39  65  68  32  57  83  91  84  24"
      ]
     },
     "execution_count": 16,
     "metadata": {},
     "output_type": "execute_result"
    }
   ],
   "source": [
    "# randint(1,100, 80): genera 80 datos entre [1-100]\n",
    "#-1 se acomoda a las dimensiones. \n",
    "df = pd.DataFrame(np.random.randint(1,100, 80).reshape(8, -1))\n",
    "print df.shape\n",
    "df.head(20)"
   ]
  },
  {
   "cell_type": "code",
   "execution_count": 124,
   "metadata": {},
   "outputs": [
    {
     "name": "stdout",
     "output_type": "stream",
     "text": [
      "<class 'pandas.core.series.Series'>\n"
     ]
    },
    {
     "data": {
      "text/plain": [
       "0    0.202128\n",
       "1    0.283784\n",
       "2    0.012987\n",
       "3    0.236559\n",
       "4    0.184783\n",
       "5    0.051020\n",
       "6    0.010204\n",
       "7    0.191489\n",
       "dtype: float64"
      ]
     },
     "execution_count": 124,
     "metadata": {},
     "output_type": "execute_result"
    }
   ],
   "source": [
    "fun_eje_1_3(df)"
   ]
  },
  {
   "cell_type": "markdown",
   "metadata": {},
   "source": [
    "#### <span style=\"color:#FFF; background-color:#080; font-weight:bold; padding:4px;\">Importante</span> Evalue su respuesta."
   ]
  },
  {
   "cell_type": "code",
   "execution_count": null,
   "metadata": {},
   "outputs": [],
   "source": [
    "!./run CHECK_SOLUTION PS1_3 $src3"
   ]
  },
  {
   "cell_type": "markdown",
   "metadata": {},
   "source": [
    "---\n",
    "\n",
    "### Ejercicio 4  (Pandas) <a name=\"eje6\"></a>\n",
    "\n",
    "Realice las siguientes tareas:\n",
    "1. Lea el archivo `../data/titanic/train.csv` de la carpeta data usando pandas. La lectura debe hacerse dentro de la función\n",
    "2. Explore el dataset de `titanic`\n",
    "3. Usando las funciones de agrupación, devuelva una lista con los valores de cuántas personas sobrevivieron de cada clase `Pclass`: **[c1, c2, c3]**"
   ]
  },
  {
   "cell_type": "code",
   "execution_count": 41,
   "metadata": {},
   "outputs": [],
   "source": [
    "def fun_eje_1_6():\n",
    "    import numpy as np\n",
    "    import pandas as pd\n",
    "\n",
    "    return cl\n",
    "\n",
    "import urllib, inspect\n",
    "src6 = urllib.quote_plus(inspect.getsource(fun_eje_1_6))"
   ]
  },
  {
   "cell_type": "markdown",
   "metadata": {},
   "source": [
    "#### <span style=\"color:#FFF; background-color:#080; font-weight:bold; padding:4px;\">Importante</span> Evalue su respuesta."
   ]
  },
  {
   "cell_type": "code",
   "execution_count": null,
   "metadata": {},
   "outputs": [],
   "source": [
    "!./run CHECK_SOLUTION PS1_6 $src6"
   ]
  },
  {
   "cell_type": "markdown",
   "metadata": {},
   "source": [
    "---\n",
    "\n",
    "### Ejercicio 5 (Pandas)  <a name=\"eje7\"></a>\n",
    "\n",
    "Con respecto al dataset: `../data/titanic/train.csv` . Retorne el número de valores nulos hay en la variable `Age`, `Cabin` y `Embarked`.\n"
   ]
  },
  {
   "cell_type": "code",
   "execution_count": null,
   "metadata": {},
   "outputs": [],
   "source": [
    "data = pd.read_csv(\"../data/titanic/train.csv\")\n",
    "data.head(3)\n"
   ]
  },
  {
   "cell_type": "code",
   "execution_count": null,
   "metadata": {},
   "outputs": [],
   "source": [
    "def fun_eje_1_7():\n",
    "    import numpy as np\n",
    "    import pandas as pd\n",
    "    \n",
    "    \n",
    "\n",
    "    return Age_null, Cabin_null, embarked_null\n",
    "\n",
    "import urllib, inspect\n",
    "src7 = urllib.quote_plus(inspect.getsource(fun_eje_1_7))"
   ]
  },
  {
   "cell_type": "markdown",
   "metadata": {},
   "source": [
    "---\n",
    "\n",
    "#### <span style=\"color:#FFF; background-color:#080; font-weight:bold; padding:4px;\">Importante</span> Evalue su respuesta."
   ]
  },
  {
   "cell_type": "code",
   "execution_count": null,
   "metadata": {},
   "outputs": [],
   "source": [
    "!./run CHECK_SOLUTION PS1_7 $src7"
   ]
  },
  {
   "cell_type": "markdown",
   "metadata": {},
   "source": [
    "---\n",
    "#### <span style=\"color:#FFF; background-color:#080; font-weight:bold; padding:4px;\">Importante</span> Pasos Finales. \n",
    "\n",
    "#### 1. Guarde los cambios del taller:"
   ]
  },
  {
   "cell_type": "code",
   "execution_count": 31,
   "metadata": {},
   "outputs": [
    {
     "data": {
      "application/javascript": [
       "require([\"base/js/namespace\"],function(Jupyter) {\n",
       "    Jupyter.notebook.save_checkpoint();\n",
       "});"
      ],
      "text/plain": [
       "<IPython.core.display.Javascript object>"
      ]
     },
     "metadata": {},
     "output_type": "display_data"
    }
   ],
   "source": [
    "%%javascript\n",
    "require([\"base/js/namespace\"],function(Jupyter) {\n",
    "    Jupyter.notebook.save_checkpoint();\n",
    "});"
   ]
  },
  {
   "cell_type": "markdown",
   "metadata": {},
   "source": [
    "#### 2. Reemplace la variable con su código de estudiante"
   ]
  },
  {
   "cell_type": "code",
   "execution_count": 32,
   "metadata": {},
   "outputs": [],
   "source": [
    "codigo=0000000"
   ]
  },
  {
   "cell_type": "markdown",
   "metadata": {},
   "source": [
    "#### 3. Ejecute la siguiente selda y envíe el archivo comprimido"
   ]
  },
  {
   "cell_type": "code",
   "execution_count": null,
   "metadata": {},
   "outputs": [],
   "source": [
    "!./empaquetar.sh $codigo"
   ]
  },
  {
   "cell_type": "markdown",
   "metadata": {},
   "source": [
    "---\n",
    "# <center> Thanks! </center>"
   ]
  }
 ],
 "metadata": {
  "kernelspec": {
   "display_name": "Python 2",
   "language": "python",
   "name": "python2"
  },
  "language_info": {
   "codemirror_mode": {
    "name": "ipython",
    "version": 2
   },
   "file_extension": ".py",
   "mimetype": "text/x-python",
   "name": "python",
   "nbconvert_exporter": "python",
   "pygments_lexer": "ipython2",
   "version": "2.7.14"
  },
  "toc": {
   "toc_cell": false,
   "toc_number_sections": true,
   "toc_threshold": 6,
   "toc_window_display": false
  }
 },
 "nbformat": 4,
 "nbformat_minor": 1
}

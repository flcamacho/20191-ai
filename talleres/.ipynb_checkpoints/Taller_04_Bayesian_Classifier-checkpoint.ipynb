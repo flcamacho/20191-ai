{
 "cells": [
  {
   "cell_type": "markdown",
   "metadata": {},
   "source": [
    "<img src=\"../imgs/banner_IA.png\"  width=\"1000px\" height=\"200px\">\n",
    "\n",
    "# Taller 4: Bayesian Classifier.\n",
    "\n",
    "## <span style=\"color:red\"> Outline </span> \n",
    "\n",
    "1. [Ejercicio 1. Estimadores](#eje1)\n",
    "2. [Ejercicio 2. $\\mu$, $\\sigma$  por clase](#eje2)\n",
    "3. [Ejercicio 3. Probabilidad conjunta por clase](#eje3)\n",
    "4. [Ejercicio 4. Calculo Proporcion elem per class](#eje4)\n",
    "5. [Ejercicio 5. Definiendo Clasificador](#eje5)\n",
    "\n",
    "\n",
    "\n",
    "\n",
    "#### <font style=\"color: red\"> Esta práctica contiene 5 ejercicios <!-- ONLY IN NOTEBOOK -->\n",
    "\n",
    "<h2><span style=\"color:#FFF; background-color:#F00; font-weight:bold; padding:4px;\">¡IMPORTANTE!</span> Ejecute esta celda para iniciar la actividad</h2>"
   ]
  },
  {
   "cell_type": "code",
   "execution_count": 1,
   "metadata": {},
   "outputs": [],
   "source": [
    "import numpy as np\n",
    "import scipy.stats as stats\n",
    "import matplotlib.pyplot as plt\n",
    "import pandas as pd"
   ]
  },
  {
   "cell_type": "code",
   "execution_count": 2,
   "metadata": {},
   "outputs": [],
   "source": [
    "!chmod 777 empaquetar.sh run utils/*"
   ]
  },
  {
   "cell_type": "markdown",
   "metadata": {},
   "source": [
    "<h2><span style=\"color:#FFF; background-color:#F00; font-weight:bold; padding:4px;\">¡IMPORTANTE!</span></h2><br><h2 style=\"margin-top:-10px;\">Usted debe ejecutar <span style=\"color:#F00;\">TODAS</span> las celdas de tipo <span style=\"color:#F00;\">CODE</span>. De lo contrario, sus respuestas no serán procesadas correctamente.</h2>"
   ]
  },
  {
   "cell_type": "markdown",
   "metadata": {},
   "source": [
    "En este taller vamos a construir paso a paso todos los componentes de un clasificador Naive Gaussian. Para ello construiremos las funciones necesarias del clasificador y luego vamos a unirlas en una clase, que funcione como la implementada en `sklearn`. \n",
    "\n",
    "\n",
    "El clasificador implementado sera evaluado en un dataset para predecir problemas cardiacos, el cual esta disponible en el siguiente enlace: [DataSet Info](https://www.kaggle.com/ronitf/heart-disease-uci). Existen caracteristicas del paciente, como la edad, valores de la presión, niveles de colesterol entre otros. El `target` intenta predecir si el paciente tiene una enfermedad cardiaca. \n",
    "\n",
    "\n",
    "### Ejercicio 1 : Estimadores  <a name=\"eje1\"></a>\n",
    "\n",
    "completa la función siguiente para que, dado `X` $\\in \\mathbb{R}^{n \\times m}$, un dataframe de Pandas o un array `numpy` con $m$ columnas y $n$ elementos, devuelva dos vectores $\\in \\mathbb{R}^m$\n",
    "\n",
    "- uno con los promedios de cada columna de `X`\n",
    "- uno con las desviaciones estandar de cada columna de `X`\n",
    "\n",
    "#### Ejemplo de ejecución\n",
    "\n",
    "    > d = pd.read_csv(\"data/heart.csv\")\n",
    "    > print means_stds(d)\n",
    "    > print means_stds(d.values)\n",
    "    \n",
    "    (array([  5.43663366e+01,   6.83168317e-01,   9.66996700e-01,\n",
    "         1.31623762e+02,   2.46264026e+02,   1.48514851e-01,\n",
    "         5.28052805e-01,   1.49646865e+02,   3.26732673e-01,\n",
    "         1.03960396e+00,   1.39933993e+00,   7.29372937e-01,\n",
    "         2.31353135e+00,   5.44554455e-01]), array([  9.06710164,   0.46524119,   1.03034803,  17.50917807,\n",
    "        51.74515101,   0.3556096 ,   0.52499112,  22.86733258,\n",
    "         0.46901859,   1.15915747,   0.61520843,   1.0209175 ,\n",
    "         0.61126531,   0.49801094]))\n",
    "    (array([  5.43663366e+01,   6.83168317e-01,   9.66996700e-01,\n",
    "         1.31623762e+02,   2.46264026e+02,   1.48514851e-01,\n",
    "         5.28052805e-01,   1.49646865e+02,   3.26732673e-01,\n",
    "         1.03960396e+00,   1.39933993e+00,   7.29372937e-01,\n",
    "         2.31353135e+00,   5.44554455e-01]), array([  9.06710164,   0.46524119,   1.03034803,  17.50917807,\n",
    "        51.74515101,   0.3556096 ,   0.52499112,  22.86733258,\n",
    "         0.46901859,   1.15915747,   0.61520843,   1.0209175 ,\n",
    "         0.61126531,   0.49801094]))\n",
    "\n",
    "Exploremos el dataset: "
   ]
  },
  {
   "cell_type": "code",
   "execution_count": 3,
   "metadata": {},
   "outputs": [
    {
     "data": {
      "text/html": [
       "<div>\n",
       "<style scoped>\n",
       "    .dataframe tbody tr th:only-of-type {\n",
       "        vertical-align: middle;\n",
       "    }\n",
       "\n",
       "    .dataframe tbody tr th {\n",
       "        vertical-align: top;\n",
       "    }\n",
       "\n",
       "    .dataframe thead th {\n",
       "        text-align: right;\n",
       "    }\n",
       "</style>\n",
       "<table border=\"1\" class=\"dataframe\">\n",
       "  <thead>\n",
       "    <tr style=\"text-align: right;\">\n",
       "      <th></th>\n",
       "      <th>age</th>\n",
       "      <th>sex</th>\n",
       "      <th>cp</th>\n",
       "      <th>trestbps</th>\n",
       "      <th>chol</th>\n",
       "      <th>fbs</th>\n",
       "      <th>restecg</th>\n",
       "      <th>thalach</th>\n",
       "      <th>exang</th>\n",
       "      <th>oldpeak</th>\n",
       "      <th>slope</th>\n",
       "      <th>ca</th>\n",
       "      <th>thal</th>\n",
       "      <th>target</th>\n",
       "    </tr>\n",
       "  </thead>\n",
       "  <tbody>\n",
       "    <tr>\n",
       "      <th>0</th>\n",
       "      <td>63</td>\n",
       "      <td>1</td>\n",
       "      <td>3</td>\n",
       "      <td>145</td>\n",
       "      <td>233</td>\n",
       "      <td>1</td>\n",
       "      <td>0</td>\n",
       "      <td>150</td>\n",
       "      <td>0</td>\n",
       "      <td>2.3</td>\n",
       "      <td>0</td>\n",
       "      <td>0</td>\n",
       "      <td>1</td>\n",
       "      <td>1</td>\n",
       "    </tr>\n",
       "    <tr>\n",
       "      <th>1</th>\n",
       "      <td>37</td>\n",
       "      <td>1</td>\n",
       "      <td>2</td>\n",
       "      <td>130</td>\n",
       "      <td>250</td>\n",
       "      <td>0</td>\n",
       "      <td>1</td>\n",
       "      <td>187</td>\n",
       "      <td>0</td>\n",
       "      <td>3.5</td>\n",
       "      <td>0</td>\n",
       "      <td>0</td>\n",
       "      <td>2</td>\n",
       "      <td>1</td>\n",
       "    </tr>\n",
       "    <tr>\n",
       "      <th>2</th>\n",
       "      <td>41</td>\n",
       "      <td>0</td>\n",
       "      <td>1</td>\n",
       "      <td>130</td>\n",
       "      <td>204</td>\n",
       "      <td>0</td>\n",
       "      <td>0</td>\n",
       "      <td>172</td>\n",
       "      <td>0</td>\n",
       "      <td>1.4</td>\n",
       "      <td>2</td>\n",
       "      <td>0</td>\n",
       "      <td>2</td>\n",
       "      <td>1</td>\n",
       "    </tr>\n",
       "    <tr>\n",
       "      <th>3</th>\n",
       "      <td>56</td>\n",
       "      <td>1</td>\n",
       "      <td>1</td>\n",
       "      <td>120</td>\n",
       "      <td>236</td>\n",
       "      <td>0</td>\n",
       "      <td>1</td>\n",
       "      <td>178</td>\n",
       "      <td>0</td>\n",
       "      <td>0.8</td>\n",
       "      <td>2</td>\n",
       "      <td>0</td>\n",
       "      <td>2</td>\n",
       "      <td>1</td>\n",
       "    </tr>\n",
       "    <tr>\n",
       "      <th>4</th>\n",
       "      <td>57</td>\n",
       "      <td>0</td>\n",
       "      <td>0</td>\n",
       "      <td>120</td>\n",
       "      <td>354</td>\n",
       "      <td>0</td>\n",
       "      <td>1</td>\n",
       "      <td>163</td>\n",
       "      <td>1</td>\n",
       "      <td>0.6</td>\n",
       "      <td>2</td>\n",
       "      <td>0</td>\n",
       "      <td>2</td>\n",
       "      <td>1</td>\n",
       "    </tr>\n",
       "  </tbody>\n",
       "</table>\n",
       "</div>"
      ],
      "text/plain": [
       "   age  sex  cp  trestbps  chol  fbs  restecg  thalach  exang  oldpeak  slope  \\\n",
       "0   63    1   3       145   233    1        0      150      0      2.3      0   \n",
       "1   37    1   2       130   250    0        1      187      0      3.5      0   \n",
       "2   41    0   1       130   204    0        0      172      0      1.4      2   \n",
       "3   56    1   1       120   236    0        1      178      0      0.8      2   \n",
       "4   57    0   0       120   354    0        1      163      1      0.6      2   \n",
       "\n",
       "   ca  thal  target  \n",
       "0   0     1       1  \n",
       "1   0     2       1  \n",
       "2   0     2       1  \n",
       "3   0     2       1  \n",
       "4   0     2       1  "
      ]
     },
     "execution_count": 3,
     "metadata": {},
     "output_type": "execute_result"
    }
   ],
   "source": [
    "d = pd.read_csv(\"./misc/heart.csv\") ##CHANGE DIRECTORY\n",
    "d.head()"
   ]
  },
  {
   "cell_type": "code",
   "execution_count": 19,
   "metadata": {},
   "outputs": [],
   "source": [
    "def means_stds(X):\n",
    "    #Your Code Here.\n",
    "    return None\n",
    "\n",
    "import urllib, inspect\n",
    "src1 = urllib.quote_plus(inspect.getsource(means_stds))"
   ]
  },
  {
   "cell_type": "markdown",
   "metadata": {},
   "source": [
    "Test Your Code:"
   ]
  },
  {
   "cell_type": "code",
   "execution_count": 9,
   "metadata": {},
   "outputs": [
    {
     "name": "stdout",
     "output_type": "stream",
     "text": [
      "(array([  5.43663366e+01,   6.83168317e-01,   9.66996700e-01,\n",
      "         1.31623762e+02,   2.46264026e+02,   1.48514851e-01,\n",
      "         5.28052805e-01,   1.49646865e+02,   3.26732673e-01,\n",
      "         1.03960396e+00,   1.39933993e+00,   7.29372937e-01,\n",
      "         2.31353135e+00,   5.44554455e-01]), array([  9.06710164,   0.46524119,   1.03034803,  17.50917807,\n",
      "        51.74515101,   0.3556096 ,   0.52499112,  22.86733258,\n",
      "         0.46901859,   1.15915747,   0.61520843,   1.0209175 ,\n",
      "         0.61126531,   0.49801094]))\n",
      "(array([  5.43663366e+01,   6.83168317e-01,   9.66996700e-01,\n",
      "         1.31623762e+02,   2.46264026e+02,   1.48514851e-01,\n",
      "         5.28052805e-01,   1.49646865e+02,   3.26732673e-01,\n",
      "         1.03960396e+00,   1.39933993e+00,   7.29372937e-01,\n",
      "         2.31353135e+00,   5.44554455e-01]), array([  9.06710164,   0.46524119,   1.03034803,  17.50917807,\n",
      "        51.74515101,   0.3556096 ,   0.52499112,  22.86733258,\n",
      "         0.46901859,   1.15915747,   0.61520843,   1.0209175 ,\n",
      "         0.61126531,   0.49801094]))\n"
     ]
    }
   ],
   "source": [
    "d = pd.read_csv(\"./misc/heart.csv\") ##CHANGE DIRECTORY\n",
    "print means_stds(d)\n",
    "print means_stds(d.values)"
   ]
  },
  {
   "cell_type": "markdown",
   "metadata": {},
   "source": [
    "#### <span style=\"color:#FFF; background-color:#080; font-weight:bold; padding:4px;\">Importante</span> Evalue su respuesta."
   ]
  },
  {
   "cell_type": "code",
   "execution_count": null,
   "metadata": {},
   "outputs": [],
   "source": [
    "!./run CHECK_SOLUTION PS4_1 $src1"
   ]
  },
  {
   "cell_type": "markdown",
   "metadata": {},
   "source": [
    "## Ejercicio 2: $\\mu$, $\\sigma$ por clase  <a name=\"eje2\"></a>\n",
    "\n",
    "Completa la función siguiente para que, por cada valor distinto de $y$ (clase) devuelva una lista de promedios y desviaciones estandar de cada columna de la porción de $X$ correspondiente a cada valor de y.\n",
    "\n",
    "La función a de devolver dos diccionarios python. Uno con las medias y otro con las desviaciones estandar para cada columna y para cada clave. Cada diccionario tendrá como claves los valores presentes en $y$.\n",
    "\n",
    "#### Ejecución de ejemplo:\n",
    "\n",
    "Para el siguiente $X$ e $y$:\n",
    "\n",
    "          X      y\n",
    "        ------  ---\n",
    "        [7, 8]   2\n",
    "        [1, 9]   1\n",
    "        [2, 4]   0\n",
    "        [7, 3]   2\n",
    "        [8, 8]   1\n",
    "        [6, 6]   1\n",
    "        [8, 0]   0\n",
    "        [6, 9]   1\n",
    "        [3, 5]   0\n",
    "        [1, 8]   1\n",
    "\n",
    "La salida ha de ser:\n",
    "\n",
    "    > m,s = means_stds_perclass(X,y)\n",
    "    > print \"means\", means\n",
    "    > print \"stds \", stds\n",
    "    \n",
    "    means {0: array([ 4.33333333,  3.        ]), 1: array([ 4.4,  8. ]), 2: array([ 7. ,  5.5])}\n",
    "    stds  {0: array([ 2.62466929,  2.1602469 ]), 1: array([ 2.87054002,  1.09544512]), 2: array([ 0. ,  2.5])}"
   ]
  },
  {
   "cell_type": "code",
   "execution_count": 20,
   "metadata": {},
   "outputs": [],
   "source": [
    "def means_stds_perclass(X,y):\n",
    "    means, stds = {}, {}\n",
    "    \n",
    "        #Your Code Here.\n",
    "    \n",
    "    return means, stds\n",
    "\n",
    "import urllib, inspect\n",
    "src2 = urllib.quote_plus(inspect.getsource(means_stds_perclass))"
   ]
  },
  {
   "cell_type": "markdown",
   "metadata": {},
   "source": [
    "Test Your Code:"
   ]
  },
  {
   "cell_type": "code",
   "execution_count": 14,
   "metadata": {},
   "outputs": [
    {
     "name": "stdout",
     "output_type": "stream",
     "text": [
      "means {0: array([ 4.33333333,  3.        ]), 1: array([ 4.4,  8. ]), 2: array([ 7. ,  5.5])}\n",
      "stds  {0: array([ 2.62466929,  2.1602469 ]), 1: array([ 2.87054002,  1.09544512]), 2: array([ 0. ,  2.5])}\n"
     ]
    }
   ],
   "source": [
    "X = np.array([[7, 8],[1, 9],[2, 4],[7, 3],[8, 8],[6, 6],[8, 0],[6, 9],[3, 5],[1, 8]])\n",
    "y = np.array([2, 1, 0, 2, 1, 1, 0, 1, 0, 1])\n",
    "means,stds = means_stds_perclass(X,y)\n",
    "print \"means\", means\n",
    "print \"stds \", stds"
   ]
  },
  {
   "cell_type": "markdown",
   "metadata": {},
   "source": [
    "#### <span style=\"color:#FFF; background-color:#080; font-weight:bold; padding:4px;\">Importante</span> Evalue su respuesta."
   ]
  },
  {
   "cell_type": "code",
   "execution_count": null,
   "metadata": {},
   "outputs": [],
   "source": [
    "!./run CHECK_SOLUTION PS4_2 $src2"
   ]
  },
  {
   "cell_type": "markdown",
   "metadata": {},
   "source": [
    "## Ejercicio 3: Probabilidad conjunta para una clase <a name=\"eje3\"></a>\n",
    "\n",
    "completa la función siguiente para que dado\n",
    "\n",
    "- $X \\in \\mathbb{R}^{n\\times m}$ = $\\{ x_1, ..., x_n\\}$, con $x_i \\in \\mathbb{R}^m$ = $\\{x_{i,1},...,x_{i,m}\\}$\n",
    "- $m \\in \\mathbb{R}^m$ un vector con un $\\mu$ para cada columna de $X$\n",
    "- $s \\in \\mathbb{R}^m$ un vector con un $\\sigma$ para cada columna de $X$\n",
    "\n",
    "devuelva un vector $P \\in\\mathbb{R}^{n}$ = $\\{p_1,...,p_n\\}$\n",
    "\n",
    "de forma que:\n",
    "\n",
    "$$p_i = \\prod_{k=1}^m P_{\\mu_k,\\sigma_k}(x_{i,k})$$\n",
    "\n",
    "en donde\n",
    "\n",
    "$P_{\\mu_k,\\sigma_k}(x_{i,k})$ es la probabilidad de $x_{i,k}$ según una distribución normal con media $\\mu_k$ y desviación estándar $\\sigma_k$\n",
    "\n",
    "El resultado ha de ser un array numpy\n",
    "\n",
    "#### Ejecución de ejemplo\n",
    "\n",
    "Para $X$ como en el ejemplo del ejercicio anterior y $m=[4,5]$ y $s=[4,2]$ el resultado debería de ser el siguiente:\n",
    "\n",
    "    > prob(X, m, s)\n",
    "\n",
    "    array([ 0.00487532,  0.00203234,  0.01549375,  0.00910831,  0.00391743,\n",
    "            0.01549375,  0.00053017,  0.00237604,  0.01928228,  0.00487532])\n",
    "            \n",
    "**Sugerencia**: usa el método `pdf` de [`scipy.stats.norm`](https://docs.scipy.org/doc/scipy/reference/generated/scipy.stats.norm.html) para calcular $P_{\\mu_k,\\sigma_k}(x_{i,k})$"
   ]
  },
  {
   "cell_type": "code",
   "execution_count": 28,
   "metadata": {},
   "outputs": [],
   "source": [
    "def prob(X, m, s):    \n",
    "    \n",
    "    #Your Code Here.\n",
    "    \n",
    "    return None\n",
    "\n",
    "import urllib, inspect\n",
    "src3 = urllib.quote_plus(inspect.getsource(prob))"
   ]
  },
  {
   "cell_type": "markdown",
   "metadata": {},
   "source": [
    "Test Your Code:\n"
   ]
  },
  {
   "cell_type": "code",
   "execution_count": 28,
   "metadata": {},
   "outputs": [
    {
     "data": {
      "text/plain": [
       "array([ 0.00487532,  0.00203234,  0.01549375,  0.00910831,  0.00391743,\n",
       "        0.01549375,  0.00053017,  0.00237604,  0.01928228,  0.00487532])"
      ]
     },
     "execution_count": 28,
     "metadata": {},
     "output_type": "execute_result"
    }
   ],
   "source": [
    "X = np.array([[7, 8],[1, 9],[2, 4],[7, 3],[8, 8],[6, 6],[8, 0],[6, 9],[3, 5],[1, 8]])\n",
    "y = np.array([2, 1, 0, 2, 1, 1, 0, 1, 0, 1])\n",
    "m = np.r_[4,5]\n",
    "s = np.r_[4,2]\n",
    "prob(X, m, s)"
   ]
  },
  {
   "cell_type": "markdown",
   "metadata": {},
   "source": [
    "#### <span style=\"color:#FFF; background-color:#080; font-weight:bold; padding:4px;\">Importante</span> Evalue su respuesta."
   ]
  },
  {
   "cell_type": "code",
   "execution_count": null,
   "metadata": {},
   "outputs": [],
   "source": [
    "!./run CHECK_SOLUTION PS4_3 $src3"
   ]
  },
  {
   "cell_type": "markdown",
   "metadata": {},
   "source": [
    "## Ejercicio 4: Cálculo de la proporcion de elementos de cada clase <a name=\"eje4\"></a>\n",
    "\n",
    "Completa la función siguiente para que, dado un $y$, devuelva un diccionario con la proporcion de elementos existentes para cada valor distinto de $y$\n",
    "\n",
    "#### Ejecución de ejemplo\n",
    "\n",
    "    > y = [2 1 0 2 1 1 0 1 0 1]\n",
    "    > props(y)\n",
    "    \n",
    "    {0:0.3, 1:0.5, 2:0.2}"
   ]
  },
  {
   "cell_type": "code",
   "execution_count": null,
   "metadata": {},
   "outputs": [],
   "source": [
    "def props(y):\n",
    "    \n",
    "    #Your Code Here.\n",
    "    \n",
    "    return None\n",
    "\n",
    "import urllib, inspect\n",
    "src4 = urllib.quote_plus(inspect.getsource(props))"
   ]
  },
  {
   "cell_type": "markdown",
   "metadata": {},
   "source": [
    "Test Your Code:"
   ]
  },
  {
   "cell_type": "code",
   "execution_count": null,
   "metadata": {},
   "outputs": [],
   "source": [
    "y = np.array([2, 1, 0, 2, 1, 1, 0, 1, 0, 1])\n",
    "print props(y)\n",
    "\n",
    "# que tan bien esta balanceado para el dataset: heart.csv\n",
    "y =d.values[:,-1]\n",
    "print props(y)"
   ]
  },
  {
   "cell_type": "markdown",
   "metadata": {},
   "source": [
    "#### <span style=\"color:#FFF; background-color:#080; font-weight:bold; padding:4px;\">Importante</span> Evalue su respuesta."
   ]
  },
  {
   "cell_type": "code",
   "execution_count": null,
   "metadata": {},
   "outputs": [],
   "source": [
    "!./run CHECK_SOLUTION PS4_4 $src4"
   ]
  },
  {
   "cell_type": "markdown",
   "metadata": {},
   "source": [
    "## Ejercicio 5: Clase API sklearn <a name=\"eje5\"></a>\n",
    "\n",
    "ensambla las funciones de los ejercicios anteriores en una clase conforme al API de machine learning de sklearn según se describe en el código siguiente.\n",
    "\n",
    "#### Ejecución de ejemplo\n",
    "\n",
    "El siguiente código\n",
    "\n",
    "    > X = np.array([[7, 8],[1, 9],[2, 4],[7, 3],[8, 8],[6, 6],[8, 0],[6, 9],[3, 5],[1, 8]])\n",
    "    > y = np.array([1, 1, 0, 1, 0, 1, 0, 1, 0, 1])\n",
    "\n",
    "    > b = Bayes()\n",
    "    > b.fit(X,y)\n",
    "    > print b.predict(X)\n",
    "    > print b.score(X,y)\n",
    "    \n",
    "debe de arrojar el siguiente resultado\n",
    "\n",
    "    [1 1 0 0 1 1 0 1 1 1]\n",
    "    0.7  "
   ]
  },
  {
   "cell_type": "code",
   "execution_count": null,
   "metadata": {},
   "outputs": [],
   "source": [
    "def My_Bayes(**args): # hack for inspect to work with classes\n",
    "    from scipy.optimize import minimize\n",
    "    import numpy as np\n",
    "    \n",
    "    class My_Bayes_class:\n",
    "        def fit(self, X, y):\n",
    "            # Your Code Here.\n",
    "            self.means = None\n",
    "            self.stds  = None\n",
    "            self.props = None\n",
    "\n",
    "        def predict(self, X):\n",
    "            \n",
    "            # Your Code Here\n",
    "            # usa el código del ejercicio 4 para elegir, para cada fila de X, \n",
    "            # la clase que mas probabilidad tenga\n",
    "            \n",
    "            predictions = None\n",
    "            \n",
    "            return predictions\n",
    "                \n",
    "        def score(self, X, y):\n",
    "            return np.mean(y==self.predict(X))\n",
    "        \n",
    "    return My_Bayes_class(**args)\n",
    "\n",
    "import urllib, inspect\n",
    "src5 = urllib.quote_plus(inspect.getsource(My_Bayes))"
   ]
  },
  {
   "cell_type": "markdown",
   "metadata": {},
   "source": [
    "Test Your Code:"
   ]
  },
  {
   "cell_type": "code",
   "execution_count": 42,
   "metadata": {},
   "outputs": [
    {
     "name": "stdout",
     "output_type": "stream",
     "text": [
      "mi codigo\n",
      "[1 1 0 0 1 1 0 1 1 1]\n",
      "0.7\n",
      "\n",
      "sklearn\n",
      "[1 1 0 0 1 1 0 1 1 1]\n",
      "0.7\n"
     ]
    }
   ],
   "source": [
    "import numpy as np\n",
    "X = np.array([[7, 8],[1, 9],[2, 4],[7, 3],[8, 8],[6, 6],[8, 0],[6, 9],[3, 5],[1, 8]])\n",
    "y = np.array([1, 1, 0, 1, 0, 1, 0, 1, 0, 1])\n",
    "\n",
    "b = My_Bayes()\n",
    "b.fit(X,y)\n",
    "print \"mi codigo\"\n",
    "print b.predict(X)\n",
    "print b.score(X,y)\n",
    "\n",
    "from sklearn.naive_bayes import GaussianNB\n",
    "g = GaussianNB()\n",
    "g.fit(X,y)\n",
    "print \"\\nsklearn\"\n",
    "print g.predict(X)\n",
    "print g.score(X,y)"
   ]
  },
  {
   "cell_type": "markdown",
   "metadata": {},
   "source": [
    "#### <span style=\"color:#FFF; background-color:#080; font-weight:bold; padding:4px;\">Importante</span> Evalue su respuesta."
   ]
  },
  {
   "cell_type": "code",
   "execution_count": null,
   "metadata": {},
   "outputs": [],
   "source": [
    "!./run CHECK_SOLUTION PS4_4 $src4"
   ]
  },
  {
   "cell_type": "markdown",
   "metadata": {},
   "source": [
    "---\n",
    "\n",
    "#### <span style=\"color:#FFF; background-color:#080; font-weight:bold; padding:4px;\">Importante</span> Pasos Finales. \n",
    "\n",
    "#### 1. Guarde los cambios del taller:"
   ]
  },
  {
   "cell_type": "code",
   "execution_count": 28,
   "metadata": {},
   "outputs": [
    {
     "data": {
      "application/javascript": [
       "require([\"base/js/namespace\"],function(Jupyter) {\n",
       "    Jupyter.notebook.save_checkpoint();\n",
       "});"
      ],
      "text/plain": [
       "<IPython.core.display.Javascript object>"
      ]
     },
     "metadata": {},
     "output_type": "display_data"
    }
   ],
   "source": [
    "%%javascript\n",
    "require([\"base/js/namespace\"],function(Jupyter) {\n",
    "    Jupyter.notebook.save_checkpoint();\n",
    "});"
   ]
  },
  {
   "cell_type": "markdown",
   "metadata": {},
   "source": [
    "#### 2. Reemplace la variable con su código de estudiante"
   ]
  },
  {
   "cell_type": "code",
   "execution_count": 30,
   "metadata": {},
   "outputs": [],
   "source": [
    "codigo = None"
   ]
  },
  {
   "cell_type": "markdown",
   "metadata": {},
   "source": [
    "#### 3. Ejecute la siguiente selda y envíe el archivo comprimido"
   ]
  },
  {
   "cell_type": "code",
   "execution_count": null,
   "metadata": {},
   "outputs": [],
   "source": [
    "!./empaquetar.sh $codigo"
   ]
  },
  {
   "cell_type": "markdown",
   "metadata": {},
   "source": [
    "---\n",
    "# <center> Thanks! </center>"
   ]
  }
 ],
 "metadata": {
  "kernelspec": {
   "display_name": "Python 2",
   "language": "python",
   "name": "python2"
  },
  "language_info": {
   "codemirror_mode": {
    "name": "ipython",
    "version": 2
   },
   "file_extension": ".py",
   "mimetype": "text/x-python",
   "name": "python",
   "nbconvert_exporter": "python",
   "pygments_lexer": "ipython2",
   "version": "2.7.14"
  }
 },
 "nbformat": 4,
 "nbformat_minor": 2
}

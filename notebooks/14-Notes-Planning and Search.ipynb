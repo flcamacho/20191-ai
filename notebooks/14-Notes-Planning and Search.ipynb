{
 "cells": [
  {
   "cell_type": "markdown",
   "metadata": {},
   "source": [
    "<img src=\"../imgs/bannerSP.png\" style=\"width:1700px;\">\n",
    "\n",
    "# Search-based planning algorithms\n",
    "\n",
    "\n",
    "***Como un agente puede encontrar una secuencia de acciones para lograr sus metas***\n",
    "\n",
    "An agent is anything that can be viewed as perceiving its environment through sensors and\n",
    "SENSOR acting upon that environment through actuators.\n",
    "\n",
    "## <span style=\"color:red\"> Outline </span> \n",
    "1. **Searching Problems**\n",
    "2. **First solution: Breath First Search (BFS)**\n",
    "3. **Second solution: Depth First Search (DFS)**\n"
   ]
  },
  {
   "cell_type": "code",
   "execution_count": 57,
   "metadata": {},
   "outputs": [],
   "source": [
    "import numpy as np\n",
    "import matplotlib.pyplot as plt\n",
    "import pandas as pd\n",
    "%matplotlib inline"
   ]
  },
  {
   "cell_type": "markdown",
   "metadata": {},
   "source": [
    "## <span style=\"color:red\"> 1. Searching Problems </span> \n",
    "\n",
    "\n",
    "### 1.1. Route finding problem examples\n",
    "airline travel-planning systems, route streams in a computer netwoork, car driving, robot navigation. \n",
    "\n",
    "- **States** are locations\n",
    "- **Initial state** is specified by user's query\n",
    "- **Actions** advance from current location\n",
    "- **Goal test** is the final destination\n",
    "- **Path cost** depends monetary cost, waiting time, distance of path, and so on\n",
    "\n",
    "### 1.2 Well-defined problems and solutions\n",
    "\n",
    "- **Initial state** where the agent start\n",
    "\n",
    "- Description of possible **actions**. Given a particular state $s$, which particular action $a$ can the agent do. \n",
    "\n",
    "- Description of what each action does, this is named **transition model**\n",
    "    -Result(S, a)-> return a state\n",
    "- States, actions, and transition model define the **state space** as a graph: nodes are states and links actions. \n",
    "- A **path** is a sequence of states connected by actions. \n",
    "- The **goal test** determine the final state the will be achieved. \n",
    "- A **path cost** function that assigns a numeric cost to each path\n",
    "\n",
    "#### Especific example: Robot navigation problem\n",
    "\n",
    "Solving this problem is important because autonomous robots require the ability to plan its path to reach a goal.\n",
    "<img src='../imgs/robot_comic1.png' style=\"width:350px;\">\n",
    "\n",
    "### 1.3 Noninformed algorithms\n",
    "\n",
    "In this lesson we will to study two noninformed different algorithms: **Breath First Search** and **Depth First Search**\n",
    "\n",
    "***We assume that robot doest not have any artifitial vision sensor. The robot only is able to move in local directions, one position at time, and detect if position is goal or not***"
   ]
  },
  {
   "cell_type": "markdown",
   "metadata": {},
   "source": [
    "- To start with robot navigation example, we need to create a map and define motions of robot, it is defined as follows: "
   ]
  },
  {
   "cell_type": "code",
   "execution_count": 68,
   "metadata": {},
   "outputs": [],
   "source": [
    "EMPTY, WALL, TARGET, USED = \".\",\"X\",\"T\",\"o\"\n",
    "c  = pd.Series({\"EMPTY\": \".\", \"WALL\":\"X\", \"TARGET\":\"T\", \"USED\":\"o\"})\n",
    "ci = pd.Series({\".\": 0, \"X\": 255, \"T\":100, \"o\":200})\n",
    "\n",
    "def plot_map(grid,path=[]):\n",
    "    img = np.r_[[[ci[i] for i in j] for j in grid]]\n",
    "    #print img\n",
    "    plt.imshow(img, alpha=.5)\n",
    "    if(len(path)>0):\n",
    "        for i in range(len(path)-1):\n",
    "            plt.plot([path[i][1],path[i+1][1]],[path[i][0],path[i+1][0]], color=\"black\", lw=4)    \n",
    "        plt.title(\"path length = %d\"%len(path))\n",
    "        \n",
    "    plt.xticks(range(img.shape[1]), range(img.shape[1]))\n",
    "    plt.yticks(range(img.shape[0]), range(img.shape[0]))"
   ]
  },
  {
   "cell_type": "code",
   "execution_count": 69,
   "metadata": {},
   "outputs": [],
   "source": [
    "def possible_moves(grid, y,x):\n",
    "    moves = [ [y,x+1], [y-1,x], [y,x-1], [y+1,x]]\n",
    "    \n",
    "    moves = [(my,mx) for my,mx in moves if mx>=0 and mx<len(grid[0]) and \\\n",
    "                                           my>=0 and my<len(grid) and grid[my][mx]!=c.WALL]    \n",
    "    return moves"
   ]
  },
  {
   "cell_type": "markdown",
   "metadata": {},
   "source": [
    "Lets try with an example of grid..."
   ]
  },
  {
   "cell_type": "code",
   "execution_count": 70,
   "metadata": {},
   "outputs": [
    {
     "data": {
      "image/png": "[encoded data removed]",
      "text/plain": [
       "<matplotlib.figure.Figure at 0x7ff209887f10>"
      ]
     },
     "metadata": {},
     "output_type": "display_data"
    }
   ],
   "source": [
    "grid = [\".....X\",\n",
    "        \"XX...X\",\n",
    "        \"...X..\",\n",
    "        \".XX..X\",\n",
    "        \".X...T\"]\n",
    "\n",
    "plot_map(grid)"
   ]
  },
  {
   "cell_type": "markdown",
   "metadata": {},
   "source": [
    "## <span style=\"color:orange\">student</span>: \n",
    "- Try with other map configuration!\n",
    "- Try to pass some manual path"
   ]
  },
  {
   "cell_type": "code",
   "execution_count": 74,
   "metadata": {},
   "outputs": [
    {
     "data": {
      "image/png": "[encoded data removed]",
      "text/plain": [
       "<matplotlib.figure.Figure at 0x7ff20997c250>"
      ]
     },
     "metadata": {},
     "output_type": "display_data"
    }
   ],
   "source": [
    "plot_map(grid, [(0,0), (0,1), (0,2),(0,3), (0,4), (1,4), (2,4), (3,4), (4,4), (4,5)])"
   ]
  },
  {
   "cell_type": "markdown",
   "metadata": {},
   "source": [
    "## <span style=\"color:red\"> 2. First solution: Breath First Search (BFS) </span> \n",
    "\n",
    "\n",
    "This is **breadth first**. We put the initial node into the queue. Then repeat this procedure until visit the goal node or visit all available nodes: take the first from the queue, check if it was visited or not, check if it's the goal, put all neighbours in the end of the queue, repeat. For each step we track not only the nodes, but directions and the path for the current node too.\n",
    "\n",
    "<img src='../imgs/robot_1.png' style=\"width:500px;\">\n",
    "<img src='../imgs/BFS_tree.png' style=\"width:700px;\">\n"
   ]
  },
  {
   "cell_type": "code",
   "execution_count": 75,
   "metadata": {},
   "outputs": [],
   "source": [
    "from collections import deque\n",
    "\n",
    "def bfs_search(grid, verbose=True):\n",
    "    n_iterations   = 0\n",
    "    max_queue_len  = 0\n",
    "    start = (0, 0)\n",
    "    queue = deque([([], start)])\n",
    "    visited = set()\n",
    "    while queue:\n",
    "        n_iterations += 1\n",
    "        max_queue_len = max_queue_len if len(queue) < max_queue_len else len(queue)\n",
    "        path, (y,x) = queue.popleft()\n",
    "        if grid[y][x] == c.TARGET:\n",
    "            if verbose:\n",
    "                print \"n_iterations %d, max_queue_len %d\"%(n_iterations, max_queue_len)\n",
    "            return path+[(y,x)]\n",
    "        if (y,x) in visited:\n",
    "            continue\n",
    "        visited.add((y,x))\n",
    "        for move in possible_moves(grid,y,x):\n",
    "            queue.append((path + [(y,x)], move))\n",
    "\n",
    "    return []"
   ]
  },
  {
   "cell_type": "code",
   "execution_count": 76,
   "metadata": {},
   "outputs": [
    {
     "name": "stdout",
     "output_type": "stream",
     "text": [
      "n_iterations 39, max_queue_len 8\n",
      "success True\n"
     ]
    },
    {
     "data": {
      "image/png": "[encoded data removed]",
      "text/plain": [
       "<matplotlib.figure.Figure at 0x7ff2099d25d0>"
      ]
     },
     "metadata": {},
     "output_type": "display_data"
    }
   ],
   "source": [
    "p=bfs_search(grid)\n",
    "print \"success\", len(p)>0\n",
    "plot_map(grid, p)"
   ]
  },
  {
   "cell_type": "code",
   "execution_count": 77,
   "metadata": {},
   "outputs": [
    {
     "name": "stdout",
     "output_type": "stream",
     "text": [
      "[(0, 0), (0, 1), (0, 2), (0, 3), (0, 4), (1, 4), (2, 4), (3, 4), (4, 4), (4, 5)]\n"
     ]
    }
   ],
   "source": [
    "print p"
   ]
  },
  {
   "cell_type": "markdown",
   "metadata": {},
   "source": [
    "## <span style=\"color:orange\">student</span>: \n",
    "- does it give the best answer?"
   ]
  },
  {
   "cell_type": "markdown",
   "metadata": {},
   "source": [
    "## <span style=\"color:red\"> 3. Second solution: Depth First Search (DFS) </span> \n",
    "\n",
    "\n",
    "This is **depth first**. We simply use the other way around.\n",
    "\n",
    "- Does it give the best answer?\n",
    "- How is its computational complexity as compared with  BFS?\n",
    "\n",
    "\n",
    "<img src='../imgs/robot_bfs.png' style=\"width:700px;\">\n",
    "<img src='../imgs/DFS_tree.png' style=\"width:700px;\">"
   ]
  },
  {
   "cell_type": "code",
   "execution_count": 78,
   "metadata": {},
   "outputs": [],
   "source": [
    "from collections import deque\n",
    "\n",
    "def dfs_search(grid, verbose=True):\n",
    "    n_iterations   = 0\n",
    "    max_queue_len  = 0\n",
    "    start = (0, 0)\n",
    "    queue = deque([([], start)])\n",
    "    visited = set()\n",
    "    while queue:\n",
    "        n_iterations += 1\n",
    "        max_queue_len = max_queue_len if len(queue) < max_queue_len else len(queue)\n",
    "        path, (y,x) = queue.pop()\n",
    "        if grid[y][x] == c.TARGET:\n",
    "            if verbose:\n",
    "                print \"n_iterations %d, max_queue_len %d\"%(n_iterations, max_queue_len)\n",
    "            return path+[(y,x)]\n",
    "        if (y,x) in visited:\n",
    "            continue\n",
    "        visited.add((y,x))\n",
    "        for move in possible_moves(grid,y,x):\n",
    "            queue.append((path + [(y,x)], move))\n",
    "    return []"
   ]
  },
  {
   "cell_type": "code",
   "execution_count": 79,
   "metadata": {},
   "outputs": [
    {
     "name": "stdout",
     "output_type": "stream",
     "text": [
      "n_iterations 35, max_queue_len 15\n",
      "success True\n"
     ]
    },
    {
     "data": {
      "image/png": "[encoded data removed]",
      "text/plain": [
       "<matplotlib.figure.Figure at 0x7ff209987450>"
      ]
     },
     "metadata": {},
     "output_type": "display_data"
    }
   ],
   "source": [
    "p=dfs_search(grid)\n",
    "print \"success\", len(p)>0\n",
    "plot_map(grid, p)"
   ]
  },
  {
   "cell_type": "markdown",
   "metadata": {},
   "source": [
    "Genrating more complex grids, by using random maps"
   ]
  },
  {
   "cell_type": "code",
   "execution_count": 81,
   "metadata": {},
   "outputs": [
    {
     "data": {
      "image/png": "[encoded data removed]",
      "text/plain": [
       "<matplotlib.figure.Figure at 0x7ff2090fbe90>"
      ]
     },
     "metadata": {},
     "output_type": "display_data"
    }
   ],
   "source": [
    "def generate_maze(size):\n",
    "    grid = (np.random.random(size=size)>.7)*1\n",
    "    grid = [[c.WALL if grid[x,y] else c.EMPTY for y in range(grid.shape[1])] for x in range(grid.shape[0])]\n",
    "    grid[-1][-1]=c.TARGET\n",
    "    return grid\n",
    "grid = generate_maze(size=(30,50))\n",
    "plot_map(grid)"
   ]
  },
  {
   "cell_type": "code",
   "execution_count": 82,
   "metadata": {},
   "outputs": [
    {
     "name": "stdout",
     "output_type": "stream",
     "text": [
      "[(1, 0), (2, 1)]\n"
     ]
    },
    {
     "data": {
      "image/png": "[encoded data removed]",
      "text/plain": [
       "<matplotlib.figure.Figure at 0x7ff2096ec110>"
      ]
     },
     "metadata": {},
     "output_type": "display_data"
    }
   ],
   "source": [
    "grid = generate_maze(size=(10,20))\n",
    "plot_map(grid)\n",
    "print possible_moves(grid, 1,1)"
   ]
  },
  {
   "cell_type": "code",
   "execution_count": 83,
   "metadata": {},
   "outputs": [
    {
     "name": "stdout",
     "output_type": "stream",
     "text": [
      "n_iterations 311, max_queue_len 27\n",
      "success True\n",
      "100 loops, best of 3: 8.55 ms per loop\n"
     ]
    },
    {
     "data": {
      "image/png": "[encoded data removed]",
      "text/plain": [
       "<matplotlib.figure.Figure at 0x7ff20ba2b410>"
      ]
     },
     "metadata": {},
     "output_type": "display_data"
    }
   ],
   "source": [
    "p_bfs = bfs_search(grid)\n",
    "print \"success\", len(p_bfs)>0\n",
    "%timeit bfs_search(grid, verbose=False)\n",
    "plot_map(grid, p_bfs)"
   ]
  },
  {
   "cell_type": "code",
   "execution_count": 84,
   "metadata": {},
   "outputs": [
    {
     "name": "stdout",
     "output_type": "stream",
     "text": [
      "n_iterations 156, max_queue_len 79\n",
      "success True\n",
      "100 loops, best of 3: 5.36 ms per loop\n"
     ]
    },
    {
     "data": {
      "image/png": "[encoded data removed]",
      "text/plain": [
       "<matplotlib.figure.Figure at 0x7ff2093da0d0>"
      ]
     },
     "metadata": {},
     "output_type": "display_data"
    }
   ],
   "source": [
    "p_dfs = dfs_search(grid)\n",
    "print \"success\", len(p_dfs)>0\n",
    "%timeit dfs_search(grid, verbose=False)\n",
    "plot_map(grid, p_dfs)"
   ]
  },
  {
   "cell_type": "markdown",
   "metadata": {},
   "source": [
    "## <span style=\"color:orange\">student</span>: \n",
    "\n",
    "- How to obtain from this answer a more robust solution?\n",
    "\n",
    "### <span style=\"color:red\">R:/ </span>:  let's shorten the answer of DFS\n",
    "\n",
    "- is it now the best answer?"
   ]
  },
  {
   "cell_type": "code",
   "execution_count": 85,
   "metadata": {},
   "outputs": [],
   "source": [
    "pp = np.r_[p_dfs]\n",
    "i=0\n",
    "while i<len(pp):\n",
    "    for k in range(i+2, len(pp)):\n",
    "        if np.sum(np.abs(pp[i]-pp[k]))==1:\n",
    "            pp = np.concatenate((pp[:i+1], list(pp[k:])))\n",
    "            break\n",
    "    i+=1"
   ]
  },
  {
   "cell_type": "code",
   "execution_count": 86,
   "metadata": {},
   "outputs": [
    {
     "data": {
      "image/png": "[encoded data removed]",
      "text/plain": [
       "<matplotlib.figure.Figure at 0x7ff2093daed0>"
      ]
     },
     "metadata": {},
     "output_type": "display_data"
    }
   ],
   "source": [
    "plot_map(grid, pp)"
   ]
  },
  {
   "cell_type": "markdown",
   "metadata": {},
   "source": [
    "observe computing times. larger mazes makes DFS more iterations (but slower due to data structures which should be improved)"
   ]
  },
  {
   "cell_type": "code",
   "execution_count": 34,
   "metadata": {},
   "outputs": [
    {
     "name": "stdout",
     "output_type": "stream",
     "text": [
      "100 loops, best of 3: 8.25 ms per loop\n",
      "100 loops, best of 3: 5.7 ms per loop\n",
      "bfs solution len n_iterations 325, max_queue_len 31\n",
      "29\n",
      "dfs solution len n_iterations 184, max_queue_len 86\n",
      "81\n"
     ]
    }
   ],
   "source": [
    "grid = generate_maze(size=(10,20))\n",
    "%timeit bfs_search(grid, verbose=False)\n",
    "%timeit dfs_search(grid, verbose=False)\n",
    "\n",
    "print \"bfs solution len\", len(bfs_search(grid))\n",
    "print \"dfs solution len\", len(dfs_search(grid))"
   ]
  },
  {
   "cell_type": "code",
   "execution_count": 35,
   "metadata": {},
   "outputs": [
    {
     "name": "stdout",
     "output_type": "stream",
     "text": [
      "10 loops, best of 3: 22.5 ms per loop\n",
      "10 loops, best of 3: 28.3 ms per loop\n",
      "bfs solution len n_iterations 895, max_queue_len 53\n",
      "57\n",
      "dfs solution len n_iterations 1013, max_queue_len 198\n",
      "125\n"
     ]
    }
   ],
   "source": [
    "grid = generate_maze(size=(20,30))\n",
    "%timeit bfs_search(grid, verbose=False)\n",
    "%timeit dfs_search(grid, verbose=False)\n",
    "\n",
    "print \"bfs solution len\", len(bfs_search(grid))\n",
    "print \"dfs solution len\", len(dfs_search(grid))"
   ]
  },
  {
   "cell_type": "code",
   "execution_count": 36,
   "metadata": {},
   "outputs": [
    {
     "name": "stdout",
     "output_type": "stream",
     "text": [
      "10 loops, best of 3: 117 ms per loop\n",
      "10 loops, best of 3: 81.2 ms per loop\n",
      "bfs solution len n_iterations 4600, max_queue_len 106\n",
      "101\n",
      "dfs solution len n_iterations 2620, max_queue_len 728\n",
      "547\n"
     ]
    }
   ],
   "source": [
    "grid = generate_maze(size=(50,50))\n",
    "%timeit bfs_search(grid, verbose=False)\n",
    "%timeit dfs_search(grid, verbose=False)\n",
    "\n",
    "print \"bfs solution len\", len(bfs_search(grid))\n",
    "print \"dfs solution len\", len(dfs_search(grid))"
   ]
  },
  {
   "cell_type": "markdown",
   "metadata": {},
   "source": [
    "### \"Although some of these algorithms can solve any solvable problem, none of them can do so efficiently\"\n",
    "\n",
    "# References\n",
    "\n",
    "[1] [labyrinth-algorithms](http://bryukh.com/labyrinth-algorithms/).\n",
    "\n",
    "\n",
    "<img src=\"../imgs/robot_comic.png\" style=\"width:300px;\">\n",
    "\n",
    "---\n",
    "# <center> Thanks! </center>"
   ]
  }
 ],
 "metadata": {
  "kernelspec": {
   "display_name": "Python 2",
   "language": "python",
   "name": "python2"
  },
  "language_info": {
   "codemirror_mode": {
    "name": "ipython",
    "version": 2
   },
   "file_extension": ".py",
   "mimetype": "text/x-python",
   "name": "python",
   "nbconvert_exporter": "python",
   "pygments_lexer": "ipython2",
   "version": "2.7.14"
  },
  "widgets": {
   "state": {},
   "version": "1.1.2"
  }
 },
 "nbformat": 4,
 "nbformat_minor": 2
}

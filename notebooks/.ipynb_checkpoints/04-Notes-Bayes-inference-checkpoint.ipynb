{
 "cells": [
  {
   "cell_type": "markdown",
   "metadata": {},
   "source": [
    "<img src=\"../imgs/bayes1.png\" style=\"width:900px;\">\n",
    "\n",
    "# <center> 04. Bayes inference and probabily! </center>\n",
    "\n",
    "## <span style=\"color:red\"> Outline </span> \n",
    "1. **Bayes Theorem (BT)**\n",
    "2. **The maximum likelihood estimator: a BT approx**\n",
    "\n",
    "Bayes Rule is a prominent principle used in artificial intelligence to calculate the probability of an event  A  given a observed event B. For instance the probability of robot’s next steps given the steps the robot has already executed"
   ]
  },
  {
   "cell_type": "code",
   "execution_count": 1,
   "metadata": {},
   "outputs": [],
   "source": [
    "%run ../code/functions_prob.py\n",
    "import numpy as np"
   ]
  },
  {
   "cell_type": "markdown",
   "metadata": {},
   "source": [
    "## <span style=\"color:orange\"> 1. student</span>: \n",
    "One specific cancer persist in 1% of the population, i.e.: \n",
    "$$P(C) = 0.01$$\n",
    "Which is the probability of not having this cancer $P(\\neg C)$?"
   ]
  },
  {
   "cell_type": "code",
   "execution_count": 2,
   "metadata": {},
   "outputs": [
    {
     "data": {
      "text/plain": [
       "True"
      ]
     },
     "execution_count": 2,
     "metadata": {},
     "output_type": "execute_result"
    }
   ],
   "source": [
    "result_ca1(val =0.99)"
   ]
  },
  {
   "cell_type": "markdown",
   "metadata": {},
   "source": [
    "## <span style=\"color:orange\"> 2. student</span>: \n",
    "\n",
    "Suppose that exist an specific test with next probabilities: \n",
    "- $P(+|C) =0.90$\n",
    "- $P(-|C) =0.1$\n",
    "- $P(+|\\neg C) =0.2$\n",
    "- $P(-|\\neg C) =0.8$\n",
    "\n",
    "Which are the join probabilities: $P(+,C), P(-,C), P(+, \\neg C), P(-, \\neg C)$?\n",
    "***Complementary notes is the definition***"
   ]
  },
  {
   "cell_type": "code",
   "execution_count": 3,
   "metadata": {},
   "outputs": [
    {
     "data": {
      "text/plain": [
       "True"
      ]
     },
     "execution_count": 3,
     "metadata": {},
     "output_type": "execute_result"
    }
   ],
   "source": [
    "result_ca2(p_yesc= 0.009, p_notc = 0.001, p_yesnegc = 0.198, p_notnegc =0.792)"
   ]
  },
  {
   "cell_type": "code",
   "execution_count": 4,
   "metadata": {},
   "outputs": [
    {
     "data": {
      "text/plain": [
       "0.009000000000000001"
      ]
     },
     "execution_count": 4,
     "metadata": {},
     "output_type": "execute_result"
    }
   ],
   "source": [
    "0.9*0.01"
   ]
  },
  {
   "cell_type": "markdown",
   "metadata": {},
   "source": [
    "Which is the probability $P(C|+)$ ???"
   ]
  },
  {
   "cell_type": "code",
   "execution_count": 5,
   "metadata": {},
   "outputs": [
    {
     "data": {
      "text/plain": [
       "True"
      ]
     },
     "execution_count": 5,
     "metadata": {},
     "output_type": "execute_result"
    }
   ],
   "source": [
    "result_ca3(val=0.043)\n"
   ]
  },
  {
   "cell_type": "markdown",
   "metadata": {},
   "source": [
    "## <span style=\"color:red\"> 1. Bayes theorem </span> \n",
    "\n",
    "\n",
    "$$P(A|B) = \\frac{P(B|A) P(A)}{P(B)}$$\n",
    "\n",
    "Interpretation: \n",
    "\n",
    "1. we know something about $A$, denoted as **the prior** $P(A)$\n",
    "1. we see something on the world, $B$ (evidence), which might change our belief of the world\n",
    "1. $P(B)$ is the probability of seeing what we just saw. This expression is call **marginal likelihood**\n",
    "1. $P(B|A)$ is the probability of seeing what we just saw, if $A$ was true. This expression is call the **the Likelihood**\n",
    "1. $P(A|B)$ is our new belief on $A$, given what we just saw. This expression is call **the posterior**\n",
    "\n",
    "if $A$ is binary, it can also be stated as\n",
    "\n",
    "$$P(A|B) = \\frac{P(B|A)P(A)}{P(B|A)P(A)+P(B|\\neg A)P(\\neg A)}$$\n",
    "\n",
    "or if $A$ is discrete such that $A=\\{A_0, A_1, ..., A_n\\}$\n",
    "\n",
    "$$P(A|B) = \\frac{P(B|A)P(A)}{\\sum_{A_i \\in A}P(B|A_i)P(A_i)}$$\n",
    "\n",
    "\n",
    "or, if $A$ is continuous\n",
    "\n",
    "$$P(A|B) = \\frac{P(B|A)P(A)}{\\int P(B|A)P(A)dA}$$\n",
    "\n",
    "\n",
    "Example:\n",
    "\n",
    "- $A$: the patient has cancer\n",
    "- $B$: the patient has a positive result of the test\n",
    "\n",
    "\n",
    "- $P(A)=1\\%$: general probability of the population having cancer, therefore $P(\\neg A)=99\\%$\n",
    "- $P(B) = P(B|A) + P(B|\\neg A)$: probability of having a positive test result for cancer\n",
    "- $P(B|A) = 90\\%$: probability of having a positive test given that the patient has cancer\n",
    "- $P(B|\\neg A) = 9.6\\%$: probability of having a positive test given that the patient **does not** have cancer\n",
    "\n",
    "if a patient has a positive result, what is the probability of having cancer?\n"
   ]
  },
  {
   "cell_type": "code",
   "execution_count": 6,
   "metadata": {
    "scrolled": false
   },
   "outputs": [
    {
     "data": {
      "image/jpeg": "[encoded data removed]",
      "text/plain": [
       "<IPython.core.display.Image object>"
      ]
     },
     "execution_count": 6,
     "metadata": {},
     "output_type": "execute_result"
    }
   ],
   "source": [
    "from IPython.display import Image\n",
    "Image(filename='../imgs/bayes_slide.jpg')"
   ]
  },
  {
   "cell_type": "code",
   "execution_count": 1,
   "metadata": {},
   "outputs": [],
   "source": [
    "import numpy as np\n",
    "from scipy import stats\n",
    "import matplotlib.pyplot as plt\n",
    "%matplotlib inline"
   ]
  },
  {
   "cell_type": "code",
   "execution_count": 2,
   "metadata": {},
   "outputs": [],
   "source": [
    "def pA_given_B(pA,pB_given_A, pB_given_not_A):\n",
    "    p_not_A = 1-pA\n",
    "    pB = pB_given_A * pA + pB_given_not_A * p_not_A\n",
    "    return pB_given_A * pA / pB\n"
   ]
  },
  {
   "cell_type": "code",
   "execution_count": 3,
   "metadata": {},
   "outputs": [
    {
     "name": "stdout",
     "output_type": "stream",
     "text": [
      "0.0865051903114187\n"
     ]
    }
   ],
   "source": [
    "b = pA_given_B(pA=.01, pB_given_A=.9, pB_given_not_A=.096)\n",
    "print (b)\n",
    "\n"
   ]
  },
  {
   "cell_type": "code",
   "execution_count": 7,
   "metadata": {},
   "outputs": [
    {
     "data": {
      "text/plain": [
       "0.5"
      ]
     },
     "execution_count": 7,
     "metadata": {},
     "output_type": "execute_result"
    }
   ],
   "source": [
    "b = pA_given_B(pA=.01, pB_given_A=.99, pB_given_not_A=.01)\n",
    "b"
   ]
  },
  {
   "cell_type": "code",
   "execution_count": 11,
   "metadata": {},
   "outputs": [
    {
     "data": {
      "text/plain": [
       "0.33557046979865773"
      ]
     },
     "execution_count": 11,
     "metadata": {},
     "output_type": "execute_result"
    }
   ],
   "source": [
    "#test\n",
    "b = pA_given_B(pA=.01, pB_given_A=.99, pB_given_not_A=.0198)\n",
    "b"
   ]
  },
  {
   "cell_type": "markdown",
   "metadata": {},
   "source": [
    "Observe how the probability of having cancer given that the test was positive changes as the test becomes **more sensible** (detects better the cases with actual disease, $P(B|A)$ increases) or it becomes **more specific** (detects better the cases without disease, $P(B|\\neg A)$ decreases).\n",
    "\n",
    "\n",
    "- **Sensitivity** (also called the true positive rate) measures the proportion of actual positives that are correctly identified,  ***e.g.:*** the percentage of cancer people who are correctly identified as having the condition \n",
    "\n",
    "- **Specificity** (also called the true negative rate) measures the proportion of actual negatives that are correctly identified as such ***e.g.***, the percentage of healthy people who are correctly identified as not having the condition.\n",
    "\n",
    "\n",
    "intuitively, as the test becomes more specific (has less false detections) we should believe much more its results when positive.\n",
    "\n",
    "Practice: if the question is posed inversely (**what is the probability of not having cancer, when the test is negative?**), how would the probabilities evolve?"
   ]
  },
  {
   "cell_type": "code",
   "execution_count": 12,
   "metadata": {},
   "outputs": [
    {
     "data": {
      "image/png": "[encoded data removed]",
      "text/plain": [
       "<Figure size 720x216 with 2 Axes>"
      ]
     },
     "metadata": {
      "needs_background": "light"
     },
     "output_type": "display_data"
    }
   ],
   "source": [
    "plt.figure(figsize=(10,3))\n",
    "plt.subplot(121)\n",
    "p_range = np.linspace(.9,1,100)\n",
    "p = [pA_given_B(pA=.01, pB_given_A=i, pB_given_not_A=.096) for i in p_range]\n",
    "plt.plot(p_range, p)\n",
    "plt.xlabel(\"$P(B|A)$\")\n",
    "plt.ylabel(\"$P(A|B)$\")\n",
    "plt.grid()\n",
    "plt.title(\"with $P(B|\\\\neg A)=.096$\")\n",
    "\n",
    "plt.subplot(122)\n",
    "p_range = np.linspace(0,.1,100)\n",
    "p = [pA_given_B(pA=.01, pB_given_A=.9, pB_given_not_A=i) for i in p_range]\n",
    "plt.plot(p_range, p)\n",
    "plt.xlabel(\"$P(B|\\\\neg A)$\")\n",
    "plt.grid()\n",
    "plt.title(\"with $P(B|A)=.9$\");\n",
    "\n"
   ]
  },
  {
   "cell_type": "markdown",
   "metadata": {},
   "source": [
    "## <span style=\"color:red\"> 1. The maximum likelihood estimator</span> \n",
    "\n",
    "## Probability of data\n",
    "\n",
    "We have a coin, we flip it 5 times and get the following sequence, which becomes our dataset\n",
    "\n",
    "$$D = \\{1,1,1,0,1\\}$$\n",
    "\n",
    "what is, $P(D)$ the probability of $D$? This is, what is the probability of observing what we have observed? Is it a rare event?\n",
    "\n",
    "**ANSWER**: it depends on how it was generated. In general $P(D) = P(H)^4 \\times P(T)^1$, where $P(H)$ and $P(T)$ are the probabilities of having heads or tails in a single flip.\n",
    "\n",
    "- If the coin is fair, $P(H)=P(T)=0.5$ and $P(D)=0.5^5 = 0.03125 $\n",
    "- If $P(H)=.7$ and $P(T)=.3$ then $P(D)=.7^4 * .3 = 0.07203$\n",
    "- If $P(H)=.4$ and $P(T)=.6$ then $P(D)=.4^4 * .6 = 0.01536$\n",
    "\n",
    "which makes intuitive sense: since we have seen a lot of heads, if our coin is biased towards heads our observation is more likely.\n",
    "\n",
    "Observe we can parametrize this:\n",
    "\n",
    "$$\\theta=P(H)=1-P(T)$$\n",
    "\n",
    "so that:\n",
    "\n",
    "$$P(D|\\theta)=\\theta^h \\times (1-\\theta)^t$$\n",
    "\n",
    "where $h$ and $t$ are the number of observed heads and tails respectively. In this case:\n",
    "\n",
    "- $P(D|\\theta_{.5})=0.03125$\n",
    "- $P(D|\\theta_{.7})=0.07203$\n",
    "- $P(D|\\theta_{.4})=0.01536$\n",
    "\n",
    "this is, **THE PROBABILITY OF OUR DATA DEPENDS ON THE VALUE OF $\\theta$ THAT GENERATED IT**\n",
    "\n",
    "however, in general **WE DO NOT KNOW** the actual value of $\\theta$ (model parameters) that generated our data $D$. \n",
    "\n",
    "we could obtain estimations of $\\theta$ based on our observed data $D$. For instance, what is the value of $\\theta$ for which $P(D|\\theta)$ is greatest (i.e. the **maximum likelihood estimator of $\\theta$**, more below):\n",
    "\n",
    "$$MLE(\\theta)=\\underset{\\theta}{arg\\;max} \\;\\;P(D|\\theta)$$\n",
    "\n",
    "which is an estimator of the **actual unknown value of $\\theta$**. Observe how if the actual $\\theta$ that generates our data is different that our estimation the probabilities assigned to our data vary.\n"
   ]
  },
  {
   "cell_type": "markdown",
   "metadata": {},
   "source": [
    "Genereting D with certain probability $P(H)$"
   ]
  },
  {
   "cell_type": "code",
   "execution_count": 13,
   "metadata": {},
   "outputs": [
    {
     "name": "stdout",
     "output_type": "stream",
     "text": [
      "[1 0 0 0 0]\n",
      "[1 0 0 1 1]\n"
     ]
    }
   ],
   "source": [
    "sample_coin_toss = lambda theta,n: (np.random.random(n)<theta)*1\n",
    "print (sample_coin_toss(.1, 5))\n",
    "print( (np.random.random(5)<0.3)*1)"
   ]
  },
  {
   "cell_type": "markdown",
   "metadata": {},
   "source": [
    "and now:\n",
    "$$P(D|\\theta)=\\theta^h \\times (1-\\theta)^t$$"
   ]
  },
  {
   "cell_type": "code",
   "execution_count": 14,
   "metadata": {},
   "outputs": [
    {
     "data": {
      "text/plain": [
       "0.07"
      ]
     },
     "execution_count": 14,
     "metadata": {},
     "output_type": "execute_result"
    }
   ],
   "source": [
    "D = np.r_[1,1,1,0,1]\n",
    "pdt = lambda D, theta: theta**np.sum(D==1)*(1-theta)**np.sum(D==0)\n",
    "np.around(pdt(D,.7), 2)"
   ]
  },
  {
   "cell_type": "code",
   "execution_count": 15,
   "metadata": {},
   "outputs": [
    {
     "name": "stdout",
     "output_type": "stream",
     "text": [
      "P(D|\\theta _{.5})=  0.03125\n",
      "P(D|\\theta _{.7})=  0.07203\n",
      "P(D|\\theta _{.4})=  0.015360000000000002\n"
     ]
    },
    {
     "data": {
      "text/plain": [
       "<matplotlib.legend.Legend at 0x7f0d5ef3a668>"
      ]
     },
     "execution_count": 15,
     "metadata": {},
     "output_type": "execute_result"
    },
    {
     "data": {
      "image/png": "[encoded data removed]",
      "text/plain": [
       "<Figure size 1080x216 with 2 Axes>"
      ]
     },
     "metadata": {
      "needs_background": "light"
     },
     "output_type": "display_data"
    }
   ],
   "source": [
    "sample_coin_toss = lambda theta,n: (np.random.random(n)<theta)*1\n",
    "\n",
    "pdt = lambda D, theta: theta**np.sum(D==1)*(1-theta)**np.sum(D==0)\n",
    "\n",
    "D = np.r_[1,1,1,0,1]\n",
    "\n",
    "print (\"P(D|\\\\theta _{.5})= \",  pdt(D,.5))\n",
    "print (\"P(D|\\\\theta _{.7})= \", pdt(D,.7))\n",
    "print (\"P(D|\\\\theta _{.4})= \", pdt(D,.4))\n",
    "\n",
    "plt.figure(figsize=(15,3))\n",
    "#https://matplotlib.org/users/gridspec.html\n",
    "plt.subplot2grid((1, 3), (0, 0))\n",
    "t = np.linspace(0,1,100)\n",
    "p = [pdt(D,i) for i in t]\n",
    "plt.plot(t, p, label=\"$P(D|\\\\theta)$\")\n",
    "mle=t[np.argmax(p)]\n",
    "plt.axvline(t[np.argmax(p)], color=\"black\", label=\"MLE($\\\\theta$) = %.4f\"%mle)\n",
    "plt.xlabel(\"$\\\\theta$\")\n",
    "plt.legend(loc=\"upper left\")\n",
    "\n",
    "#-------------------------------------------------------------------------\n",
    "plt.subplot2grid((1, 3), (0, 1), colspan=3)\n",
    "plt.hist([np.log(pdt(sample_coin_toss(.6,len(D)),mle)) for i in range(10000)], density=True, bins=30,\n",
    "            label = \"distribution of log $P(D| \\\\theta _{%.4f})$\"%mle,alpha=.5)\n",
    "\n",
    "plt.hist([np.log(pdt(sample_coin_toss(.6,len(D)),.6)) for i in range(10000)], density=True, bins=30,\n",
    "         label = \"distribution of log $P(D| \\\\theta _{.6})$\", alpha=.5)\n",
    "plt.xlabel(\"log $P(D|\\\\theta)$\")\n",
    "plt.title(\"sampling %d coin tosses 10000 times with REAL $\\\\theta=.6$\"%len(D))\n",
    "plt.legend(loc=\"upper left\")"
   ]
  },
  {
   "cell_type": "markdown",
   "metadata": {},
   "source": [
    "Now, assume **WE HAVE SOME UNCERTAINTY ON $\\theta$** so that we know that either $\\theta=.7$ or $\\theta=.4$, both values are equally probable and the rest of the values is not possible (an oracle tells us this):\n",
    "\n",
    "$$P(\\theta_{.7}) = P(\\theta_{.4}) = 0.5\\;\\;\\;\\;P(D|\\theta_i)=0\\;\\;for\\;i\\neq .7\\;and\\;i\\neq .4$$ \n",
    "\n",
    "then we can obtain the probability of our data $D$, **regardless** the value of $\\theta$,\n",
    "\n",
    "$$P(D) = P(\\theta_{.7})\\times P(D|\\theta_{.7}) + P(\\theta_{.4})\\times P(D|\\theta_{.4}) = 0.043695$$\n",
    "\n",
    "or, in general, if we have $i$ possible values for $\\theta$.\n",
    "\n",
    "$$P(D) = \\sum_i P(\\theta_i) \\times P(D|\\theta_i)$$"
   ]
  },
  {
   "cell_type": "code",
   "execution_count": 18,
   "metadata": {},
   "outputs": [
    {
     "name": "stdout",
     "output_type": "stream",
     "text": [
      "0.043695\n"
     ]
    }
   ],
   "source": [
    "pt  = lambda theta: .5 if theta==.7 or theta==.4 else 0\n",
    "print (pt(.7)*pdt(D,.7) + pt(.4)*pdt(D,.4))\n"
   ]
  },
  {
   "cell_type": "markdown",
   "metadata": {},
   "source": [
    "if our uncertainty of $\\theta$ is total, a reasonable assumption is that all possible values of $\\theta$ have the same probability, from a uniform distribution on the interval $[0,1]$:\n",
    "\n",
    "$$P(\\theta) \\sim \\mathbf{U}(0,1)\\;\\;\\;\\Rightarrow\\;\\; P(\\theta)=1\\; \\forall \\theta \\in [0,1]$$\n",
    "\n",
    "then\n",
    "\n",
    "$$P(D) = \\int_0^1 P(D|theta) \\times P(\\theta) d\\theta$$\n",
    "\n",
    "in our particular case\n",
    "\n",
    "$$P(D) = \\int_0^1 \\theta^4(1-\\theta) d\\theta$$\n",
    "\n",
    "which can be obtained analytically or through a numerical approximation"
   ]
  },
  {
   "cell_type": "code",
   "execution_count": 19,
   "metadata": {},
   "outputs": [
    {
     "name": "stdout",
     "output_type": "stream",
     "text": [
      "analytical 1/30\n",
      "numerical  0.033333333333333326\n"
     ]
    }
   ],
   "source": [
    "import sympy as sp\n",
    "import scipy as sc\n",
    "t = sp.symbols(\"\\\\theta\")\n",
    "print( \"analytical\", (t**4*(1-t)).integrate((t,0,1)))\n",
    "print (\"numerical \", sc.integrate.quad(lambda t:t**4*(1-t), 0,1 )[0])"
   ]
  },
  {
   "cell_type": "markdown",
   "metadata": {},
   "source": [
    "using Bayes, the probability of a certain $\\theta$ given the observed data $D$ is given by:\n",
    "\n",
    "$$P(\\theta|D) = \\frac{P(D|\\theta)P(\\theta)}{P(D)} = \\frac{P(D|\\theta)P(\\theta)}{\\int P(D|\\theta)P(\\theta)d\\theta}$$\n",
    "\n",
    "In general, **computing $P(D)$ is VERY difficult** and can only be done it numerically, if at all.\n",
    "\n",
    "For certain problems using $P(\\theta|D)$ we may not need $P(D)$. For instance, for MLE we want:\n",
    "\n",
    "$$\\underset{\\theta}{arg\\;max}\\;P(\\theta|D) = \\underset{\\theta}{arg\\;max} \\frac{P(D|\\theta)P(\\theta)}{P(D)}$$\n",
    "\n",
    "but since $P(D)$ is the same for all $\\theta$, it is not needed to select the best $\\theta$\n",
    "\n",
    "$$\\underset{\\theta}{arg\\;max}\\;P(\\theta|D) = \\underset{\\theta}{arg\\;max}\\; P(D|\\theta)P(\\theta)$$\n",
    "\n",
    "**One option of MOOC:** [Bayesian Methods in machine Learning](https://www.coursera.org/learn/bayesian-methods-in-machine-learning)"
   ]
  },
  {
   "cell_type": "markdown",
   "metadata": {},
   "source": [
    "## References\n",
    "\n",
    "[1] Maximum Likelihood Estimation :http://statweb.stanford.edu/~susan/courses/s200/lectures/lect11.pdf\n",
    "\n",
    "[2] Why is a maximum likelihood estimation consistent?: https://socratic.org/questions/why-is-a-maximum-likelihood-estimation-consistent\n",
    "\n",
    "[3] Probability concepts explained: Maximum likelihood estimation:  https://towardsdatascience.com/probability-concepts-explained-maximum-likelihood-estimation-c7b4342fdbb1"
   ]
  },
  {
   "cell_type": "markdown",
   "metadata": {
    "collapsed": true
   },
   "source": [
    "---\n",
    "# <center> Thanks! </center>"
   ]
  }
 ],
 "metadata": {
  "kernelspec": {
   "display_name": "Python 3",
   "language": "python",
   "name": "python3"
  },
  "language_info": {
   "codemirror_mode": {
    "name": "ipython",
    "version": 3
   },
   "file_extension": ".py",
   "mimetype": "text/x-python",
   "name": "python",
   "nbconvert_exporter": "python",
   "pygments_lexer": "ipython3",
   "version": "3.7.1"
  },
  "widgets": {
   "state": {},
   "version": "1.1.2"
  }
 },
 "nbformat": 4,
 "nbformat_minor": 2
}

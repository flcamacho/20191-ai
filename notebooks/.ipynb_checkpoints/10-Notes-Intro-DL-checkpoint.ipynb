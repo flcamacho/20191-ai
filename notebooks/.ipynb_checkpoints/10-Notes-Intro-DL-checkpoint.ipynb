{
 "cells": [
  {
   "cell_type": "markdown",
   "metadata": {},
   "source": [
    "<img src=\"../imgs/banner_dl.png\" style=\"width:1700px;\">\n",
    "\n",
    "\n",
    "\n",
    "# <center> 15. A brief and  very preliminary introduction to deep learning! </center>\n",
    "\n",
    "\n",
    "This guide uses tf.keras, a high-level API to build and train models in TensorFlow.\n",
    "\n",
    "\n",
    "## <span style=\"color:red\"> Outline </span> \n",
    "1. **DL: The most simple linear model**\n",
    "2. **DL: The engineering solution and activation functions**\n",
    "3. **DL: Training, Back-propagation and gradient descent**\n",
    "4. **DL: Testing: Forward propagation**"
   ]
  },
  {
   "cell_type": "code",
   "execution_count": 1,
   "metadata": {},
   "outputs": [],
   "source": [
    "import tensorflow as tf\n",
    "from tensorflow import keras\n",
    "\n",
    "import numpy as np\n",
    "import pandas as pd\n",
    "import matplotlib.pyplot as plt"
   ]
  },
  {
   "cell_type": "markdown",
   "metadata": {},
   "source": [
    "## <span style=\"color:red\"> 1. DL: The most simple linear model </span> \n",
    "\n",
    "\n",
    "The **most sucesful** thecnique nowadays is based on the most simple classifier: **the linear classifier!**. The basic idea is to split classes by a linear boundary with dimensions according to the features of the problem. \n",
    "\n",
    "<img src=\"../imgs/img0.png\" style=\"width:500px;\">\n",
    "\n",
    "\n",
    "- It is the most simple classifer, from which the predicted value $\\hat{y}$ is represented as a **linear combination** of input variables $\\mathbf{X} = [x_1, x_2, \\ldots, x_n]$, so: \n",
    "\n",
    "$$\\hat{y}(W, X) = w_0 + x_1 w_1+ x_2 w_2+ \\ldots + x_n w_n$$\n",
    "    -(x_i) Inputs: image features, pixels  \n",
    "    -(W) Weights associated to each of the fetures\n",
    "    -($\\hat{y}$) predictions label. {cat, garfield, car ...} \n",
    "     \n",
    "**How?:** \n",
    "\n",
    "- Fit a linear model with coefficients $w = (w_0, \\ldots, w_p)$ minimizing the residual sum of squares: \n",
    "\n",
    "$$min_{\\mathbf{w}} ||\\mathbf{X}w -y ||_{2}^{2}$$\n",
    "\n",
    "**THE PROBLEM NOW IS TO FIND $\\mathbf{w}$**\n",
    "\n",
    "### This linear equation could be represented as a network:\n",
    "\n",
    "\n",
    "<img src=\"../imgs/dl1.jpg\" style=\"width:500px;\">\n",
    "\n",
    "\n",
    "\n",
    "Why a relationship with **biological neurons**\n",
    "\n",
    "<img src=\"../imgs/singleN.png \" style=\"width:400px;\">\n",
    "\n",
    "\n",
    "**Go to the action!**"
   ]
  },
  {
   "cell_type": "markdown",
   "metadata": {},
   "source": [
    "# MNIST dataset \n",
    "\n",
    "The well know classification: MNIST dataset with 60000 images for training and 10000 for test. Images were taken from American Census Bureau employees and American high school students.\n",
    "\n",
    "**Note:** This original dataset is much larger than previous one!"
   ]
  },
  {
   "cell_type": "code",
   "execution_count": 2,
   "metadata": {},
   "outputs": [
    {
     "name": "stdout",
     "output_type": "stream",
     "text": [
      "(60000, 28, 28) (60000,) (10000, 28, 28) (10000,)\n",
      "1.4.1\n"
     ]
    }
   ],
   "source": [
    "(x_train, y_train), (x_test, y_test) = tf.keras.datasets.mnist.load_data()\n",
    "print x_train.shape, y_train.shape, x_test.shape, y_test.shape\n",
    "print(tf.__version__)"
   ]
  },
  {
   "cell_type": "code",
   "execution_count": 3,
   "metadata": {},
   "outputs": [
    {
     "data": {
      "image/png": "[encoded data removed]",
      "text/plain": [
       "<matplotlib.figure.Figure at 0x7f2151d81a90>"
      ]
     },
     "metadata": {},
     "output_type": "display_data"
    }
   ],
   "source": [
    "class_names = ['cero','uno', 'dos', 'tres', 'cuatro', 'cinco', 'seis', 'siete', 'ocho', 'nueve']\n",
    "plt.figure(figsize=(7,7))\n",
    "for i in range(25):\n",
    "    plt.subplot(5,5,i+1)\n",
    "    plt.xticks([])\n",
    "    plt.yticks([])\n",
    "    plt.grid(False)\n",
    "    plt.imshow(x_train[i].reshape(28,28), cmap=plt.cm.binary)\n",
    "    plt.xlabel(class_names[y_train[i]])"
   ]
  },
  {
   "cell_type": "markdown",
   "metadata": {},
   "source": [
    "normalize and prepare data"
   ]
  },
  {
   "cell_type": "code",
   "execution_count": 5,
   "metadata": {},
   "outputs": [
    {
     "name": "stdout",
     "output_type": "stream",
     "text": [
      "('x_train shape:', (60000, 28, 28, 1))\n",
      "('Number of images in x_train', 60000)\n",
      "('Number of images in x_test', 10000)\n"
     ]
    }
   ],
   "source": [
    "x_train = x_train.reshape([-1, 28, 28, 1])\n",
    "x_test = x_test.reshape([-1, 28, 28, 1])\n",
    "\n",
    "x_train = x_train.astype('float32')\n",
    "x_test = x_test.astype('float32')\n",
    "\n",
    "x_train /= 255\n",
    "x_test /= 255\n",
    "print('x_train shape:', x_train.shape)\n",
    "print('Number of images in x_train', x_train.shape[0])\n",
    "print('Number of images in x_test', x_test.shape[0])"
   ]
  },
  {
   "cell_type": "markdown",
   "metadata": {},
   "source": [
    "## <span style=\"color:red\"> 2. DNN: The engineering solution: hidden layers and activation functions </span> \n",
    "\n",
    "\n",
    "<img src=\"../imgs/ANNs.gif\" style=\"width:400px;\">\n",
    "\n",
    "<img src=\"../imgs/dl2.jpg\" style=\"width:300px;\">\n",
    "\n"
   ]
  },
  {
   "cell_type": "markdown",
   "metadata": {},
   "source": [
    "### Main componenets on DNN\n",
    "\n",
    "- **input units:**  are raw information as input layer, namely a vectorized version of each sample. For MNIST is a flatten vector of 784 inputs. \n",
    "- **Hidden units:** are internal correlation on the network, which do the **magic!**. The input units and previous layers are correllated wit some **learned weights**. \n",
    "- **activation functions: ** introduce non-linearity into the output of a neuron. This is important because most real world data is non linear and we want neurons to learn these non linear representations.\n",
    "    - *Softmax*, used in classification tasks, takes a vector of arbitrary real-valued scores and squashes it to a vector of values between zero and one to ensure that the outputs are probabilities. \n",
    "<img src=\"../imgs/actifunc.png\" style=\"width:400px;\">    \n",
    "- **output units** Give the result on correlation of network units, and namelly is mapped to a **sofmax function** to give a probability of each class. On MNIST sample the output layer should be 10 because we have 10 classes. "
   ]
  },
  {
   "cell_type": "code",
   "execution_count": 6,
   "metadata": {},
   "outputs": [],
   "source": [
    "model = keras.models.Sequential([\n",
    "    keras.layers.Flatten( input_shape=[28, 28, 1]),\n",
    "    keras.layers.Dense(128, activation=tf.nn.relu),\n",
    "    keras.layers.Dense(10, activation=tf.nn.softmax)\n",
    "])\n"
   ]
  },
  {
   "cell_type": "code",
   "execution_count": 7,
   "metadata": {},
   "outputs": [
    {
     "name": "stdout",
     "output_type": "stream",
     "text": [
      "_________________________________________________________________\n",
      "Layer (type)                 Output Shape              Param #   \n",
      "=================================================================\n",
      "flatten_1 (Flatten)          (None, 784)               0         \n",
      "_________________________________________________________________\n",
      "dense_1 (Dense)              (None, 128)               100480    \n",
      "_________________________________________________________________\n",
      "dense_2 (Dense)              (None, 10)                1290      \n",
      "=================================================================\n",
      "Total params: 101,770\n",
      "Trainable params: 101,770\n",
      "Non-trainable params: 0\n",
      "_________________________________________________________________\n"
     ]
    }
   ],
   "source": [
    "model.summary()"
   ]
  },
  {
   "cell_type": "markdown",
   "metadata": {},
   "source": [
    "## <span style=\"color:red\"> 3. DL: Training, Back-propagation and gradient descent </span> \n",
    "\n",
    "For **training** is used a backpropagation strategy, which consist on compute derivatives from end-to-start into the network. The backpropagation is implemented using a thecnique named **Gradient Descent**, which ‘adjust’ all weights in the network with an aim of reducing the error at the output layer.\n",
    "\n",
    "\n",
    "\n",
    "- **Backpropagation** best trade-off between intuition and formalism [here](http://home.agh.edu.pl/~vlsi/AI/backp_t_en/backprop.html)\n",
    "\n",
    "<img src=\"../imgs/dl3.gif \" style=\"width:400px;\">\n",
    "\n",
    "\n",
    "- **Stochastic gradient descent:**  select randomly a sub-set for training  because the high dimensional problem on DNN\n",
    "- **Epochs** number of times that an **ENTIRE** dataset is passed orward and backward through the DNN\n",
    "- **Batch size** is the sub-set of training examples to pass into during gradient descent training. For stochastic gradient descent is used the concep of mini-batch"
   ]
  },
  {
   "cell_type": "code",
   "execution_count": 8,
   "metadata": {},
   "outputs": [],
   "source": [
    "model.compile(optimizer=tf.train.AdamOptimizer(), \n",
    "              loss='sparse_categorical_crossentropy',\n",
    "              metrics=['accuracy'])"
   ]
  },
  {
   "cell_type": "code",
   "execution_count": 9,
   "metadata": {},
   "outputs": [
    {
     "name": "stdout",
     "output_type": "stream",
     "text": [
      "Epoch 1/5\n",
      "60000/60000 [==============================] - 5s - loss: 1.1462 - acc: 0.7416     \n",
      "Epoch 2/5\n",
      "60000/60000 [==============================] - 5s - loss: 0.4774 - acc: 0.8754     \n",
      "Epoch 3/5\n",
      "60000/60000 [==============================] - 5s - loss: 0.3775 - acc: 0.8957     \n",
      "Epoch 4/5\n",
      "60000/60000 [==============================] - 5s - loss: 0.3373 - acc: 0.9046     \n",
      "Epoch 5/5\n",
      "60000/60000 [==============================] - 5s - loss: 0.3144 - acc: 0.9105     \n"
     ]
    },
    {
     "data": {
      "text/plain": [
       "<tensorflow.python.keras._impl.keras.callbacks.History at 0x7f2151d81550>"
      ]
     },
     "execution_count": 9,
     "metadata": {},
     "output_type": "execute_result"
    }
   ],
   "source": [
    "model.fit(x_train, y_train, epochs=5)"
   ]
  },
  {
   "cell_type": "markdown",
   "metadata": {},
   "source": [
    "## <span style=\"color:red\"> 4. DL: Testing: Forward propagation </span> "
   ]
  },
  {
   "cell_type": "markdown",
   "metadata": {},
   "source": [
    "Once we have trained our DNN, we follow a classical evaluation of a machine learning dataset. In such case we will to evaluate the accuracy:"
   ]
  },
  {
   "cell_type": "code",
   "execution_count": 10,
   "metadata": {},
   "outputs": [
    {
     "name": "stdout",
     "output_type": "stream",
     "text": [
      " 9024/10000 [==========================>...] - ETA: 0s('Test accuracy:', 0.91520000000000001)\n"
     ]
    }
   ],
   "source": [
    "test_loss, test_acc = model.evaluate(x_test, y_test)\n",
    "\n",
    "print('Test accuracy:', test_acc)"
   ]
  },
  {
   "cell_type": "markdown",
   "metadata": {},
   "source": [
    "see more deeply on predictions"
   ]
  },
  {
   "cell_type": "code",
   "execution_count": 11,
   "metadata": {},
   "outputs": [
    {
     "name": "stdout",
     "output_type": "stream",
     "text": [
      "[  1.03384220e-04   8.53931397e-08   5.57738385e-05   9.05233552e-04\n",
      "   8.78809715e-07   4.28415333e-05   6.89841517e-09   9.96887267e-01\n",
      "   1.17296950e-05   1.99284754e-03]\n",
      "('valor predicho:', 7, 'max prob: ', 0.99688727, 'ground truth: ', 7)\n"
     ]
    }
   ],
   "source": [
    "predictions = model.predict(x_test)\n",
    "print(predictions[0])\n",
    "print(\"valor predicho:\",  np.argmax(predictions[0]), \"max prob: \", np.max(predictions[0]),\n",
    "      \"ground truth: \", y_test[0] )"
   ]
  },
  {
   "cell_type": "markdown",
   "metadata": {},
   "source": [
    "Now, we can evaluate single examples, even new examples"
   ]
  },
  {
   "cell_type": "code",
   "execution_count": 12,
   "metadata": {},
   "outputs": [
    {
     "name": "stdout",
     "output_type": "stream",
     "text": [
      "('the number predicted is: ', 9)\n"
     ]
    },
    {
     "data": {
      "image/png": "[encoded data removed]",
      "text/plain": [
       "<matplotlib.figure.Figure at 0x7f2151b14390>"
      ]
     },
     "metadata": {},
     "output_type": "display_data"
    }
   ],
   "source": [
    "## Individual predictions\n",
    "img_rows, img_cols =28, 28\n",
    "image_index = 4444\n",
    "plt.imshow(x_test[image_index].reshape(28, 28),cmap='Greys')\n",
    "pred = model.predict(x_test[image_index].reshape(1, img_rows, img_cols, 1))\n",
    "print(\"the number predicted is: \", pred.argmax())"
   ]
  },
  {
   "cell_type": "code",
   "execution_count": 13,
   "metadata": {},
   "outputs": [
    {
     "data": {
      "image/png": "[encoded data removed]",
      "text/plain": [
       "<matplotlib.figure.Figure at 0x7f2151b00950>"
      ]
     },
     "metadata": {},
     "output_type": "display_data"
    }
   ],
   "source": [
    "%run ../code/dl_plot.py\n",
    "i = 20\n",
    "plt.figure(figsize=(6,3))\n",
    "plt.subplot(1,2,1)\n",
    "plot_image(i, predictions, y_test, x_test)\n",
    "plt.subplot(1,2,2)\n",
    "plot_value_array(i, predictions,  y_test)"
   ]
  },
  {
   "cell_type": "code",
   "execution_count": 14,
   "metadata": {
    "scrolled": false
   },
   "outputs": [
    {
     "data": {
      "image/png": "[encoded data removed]",
      "text/plain": [
       "<matplotlib.figure.Figure at 0x7f2151b140d0>"
      ]
     },
     "metadata": {},
     "output_type": "display_data"
    }
   ],
   "source": [
    "%run ../code/dl_plot.py\n",
    "num_rows = 5\n",
    "num_cols = 3\n",
    "num_images = num_rows*num_cols\n",
    "plt.figure(figsize=(2*2*num_cols, 2*num_rows))\n",
    "for i in range(num_images):\n",
    "    plt.subplot(num_rows, 2*num_cols, 2*i+1)\n",
    "    plot_image(i, predictions, y_test, x_test)\n",
    "    plt.subplot(num_rows, 2*num_cols, 2*i+2)\n",
    "    plot_value_array(i, predictions, y_test)"
   ]
  },
  {
   "cell_type": "markdown",
   "metadata": {},
   "source": [
    "## <span style=\"color:orange\">student</span>: \n",
    "\n",
    "1. Change configuration with two different activation function: tanh, elu\n",
    "2. Built a deep neural network with:\n",
    "    - one hidden layer of 512 neurons and relu activation\n",
    "    - one hidden layers of 128. \n",
    "3. Try with a more challenge dataset: for instance: **fashion mnist**\n",
    "\n"
   ]
  },
  {
   "cell_type": "markdown",
   "metadata": {},
   "source": [
    "# References\n",
    "\n",
    "[1] Tensorflow: https://www.tensorflow.org/\n",
    "\n",
    "\n",
    "[2] Playground: http://playground.tensorflow.org/\n",
    "\n",
    "\n",
    "[3] Udacity deep learning course: https://classroom.udacity.com/courses/ud730"
   ]
  },
  {
   "cell_type": "markdown",
   "metadata": {},
   "source": [
    "<img src=\"../imgs/bannerThanks.jpg\" style=\"width:1000px;\">"
   ]
  }
 ],
 "metadata": {
  "kernelspec": {
   "display_name": "Python 2",
   "language": "python",
   "name": "python2"
  },
  "language_info": {
   "codemirror_mode": {
    "name": "ipython",
    "version": 2
   },
   "file_extension": ".py",
   "mimetype": "text/x-python",
   "name": "python",
   "nbconvert_exporter": "python",
   "pygments_lexer": "ipython2",
   "version": "2.7.14"
  }
 },
 "nbformat": 4,
 "nbformat_minor": 2
}

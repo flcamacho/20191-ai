{
 "cells": [
  {
   "cell_type": "code",
   "execution_count": 1,
   "metadata": {},
   "outputs": [],
   "source": [
    "%run ../code/functions_prob.py\n",
    "import numpy as np"
   ]
  },
  {
   "cell_type": "markdown",
   "metadata": {},
   "source": [
    "## Basic concepts\n",
    "A probability is a number that reflects the chance or likelihood that a particular event will occur\n",
    "\n",
    "- Probabilities express uncertainty \n",
    "\n",
    "Two events are said to be independent $X \\perp  Y$  if the probability of one is not affected by the occurrence or non-occurrence of the other.\n",
    "\n",
    " - If two probabilities are independent $X \\perp  Y$ then $P(X)P(Y) = P(X,Y)$ is the **join probability** and P(X) and P(Y) are the **marginals**\n",
    " - These two events are independent if $P(A | B) = P(A)$ or if $P(B | A) = P(B) $\n",
    "\n",
    "### Complementary Probability\n",
    "\n",
    "P(\\neg A) = 1 - P(A)\n",
    "\n"
   ]
  },
  {
   "cell_type": "markdown",
   "metadata": {},
   "source": [
    "## <span style=\"color:orange\"> 1. student</span>: \n",
    "In a in a coin tos we can obtain a **head** or a **tail**. If the probabilities of a **head** is $P(H) =0.5$, which is the probability of a tail $P(T)$?"
   ]
  },
  {
   "cell_type": "code",
   "execution_count": 2,
   "metadata": {},
   "outputs": [
    {
     "data": {
      "text/plain": [
       "True"
      ]
     },
     "execution_count": 2,
     "metadata": {},
     "output_type": "execute_result"
    }
   ],
   "source": [
    "res_1(val = 0.5)"
   ]
  },
  {
   "cell_type": "markdown",
   "metadata": {},
   "source": [
    "## <span style=\"color:orange\">2. student</span>: \n",
    "if $P(H) = 1/4$ ?"
   ]
  },
  {
   "cell_type": "code",
   "execution_count": 3,
   "metadata": {},
   "outputs": [
    {
     "data": {
      "text/plain": [
       "True"
      ]
     },
     "execution_count": 3,
     "metadata": {},
     "output_type": "execute_result"
    }
   ],
   "source": [
    "res_2(val = 0.75)"
   ]
  },
  {
   "cell_type": "markdown",
   "metadata": {},
   "source": [
    "$P(T) = 1 - P(H)$"
   ]
  },
  {
   "cell_type": "markdown",
   "metadata": {},
   "source": [
    "## <span style=\"color:orange\">3. student</span>: \n",
    "What is the probability $P(H, H, H)$? if $P(H) = 1/2$"
   ]
  },
  {
   "cell_type": "code",
   "execution_count": 4,
   "metadata": {},
   "outputs": [
    {
     "data": {
      "text/plain": [
       "True"
      ]
     },
     "execution_count": 4,
     "metadata": {},
     "output_type": "execute_result"
    }
   ],
   "source": [
    "res_3(val =0.125)"
   ]
  },
  {
   "cell_type": "markdown",
   "metadata": {},
   "source": [
    "## <span style=\"color:orange\">4. student</span>: \n",
    "$X_i$ is the i-th coin flip, $X_i = \\{H,T\\}$\n",
    "\n",
    "What is the probability $P(X_1 = X_2 = X_3 = X_4)$? if $P(H) = 1/2$"
   ]
  },
  {
   "cell_type": "code",
   "execution_count": 5,
   "metadata": {},
   "outputs": [
    {
     "data": {
      "text/plain": [
       "True"
      ]
     },
     "execution_count": 5,
     "metadata": {},
     "output_type": "execute_result"
    }
   ],
   "source": [
    "res_4(val =1/8. )\n"
   ]
  },
  {
   "cell_type": "markdown",
   "metadata": {},
   "source": [
    "## <span style=\"color:orange\">5. student</span>: \n",
    "\n",
    "\n",
    "What is the probability $P(X_1, X_2, X_3, X_4)$? contains $\\geq 3$ (H) Heads "
   ]
  },
  {
   "cell_type": "code",
   "execution_count": 28,
   "metadata": {},
   "outputs": [
    {
     "data": {
      "text/plain": [
       "True"
      ]
     },
     "execution_count": 28,
     "metadata": {},
     "output_type": "execute_result"
    }
   ],
   "source": [
    "res_5(val = )"
   ]
  },
  {
   "cell_type": "markdown",
   "metadata": {},
   "source": [
    "\n",
    "### Conditional Probability\n",
    "\n",
    "sometimes it is of interest to focus on a particular subset of the population (e.g., a sub-population).\n",
    "$$P(A|B)$$\n",
    "what is the probability of $A$ given $B$\n",
    "\n",
    "- Conditional values \n",
    "    - total probability is $P(Y) = \\sum_{i} P(Y|x_i)P(x_i)$\n",
    "    - $P(\\neg X |Y) = 1 - P( X |Y)$ \n"
   ]
  },
  {
   "cell_type": "markdown",
   "metadata": {},
   "source": [
    "## <span style=\"color:orange\">6. student</span>: \n",
    "\n",
    "#### Dependence\n",
    "\n",
    "- First flip coin $P(x_1 =H ) = 0.5$\n",
    "    - Second flip coin: \n",
    "        - H: P(x_2 = H |x_1 =H) = 0.9\n",
    "        - T: P(x_2 = T |x_1 =T) = 0.8\n",
    "        \n",
    "What is the probability that $P(x_2 = H) $?        "
   ]
  },
  {
   "cell_type": "code",
   "execution_count": 7,
   "metadata": {},
   "outputs": [
    {
     "data": {
      "text/plain": [
       "True"
      ]
     },
     "execution_count": 7,
     "metadata": {},
     "output_type": "execute_result"
    }
   ],
   "source": [
    "res_6(val =(0.5)*(0.9) + (0.5)*(1-0.8))"
   ]
  },
  {
   "cell_type": "markdown",
   "metadata": {},
   "source": [
    "- Total probability is $P(Y) = \\sum_{i} P(Y|x_i)P(x_i)$\n",
    "- Negation of probabilities:  $P(\\neg X |Y) = 1 - P( X |Y)$ "
   ]
  },
  {
   "cell_type": "markdown",
   "metadata": {},
   "source": [
    "## <span style=\"color:orange\">7. student</span>: \n",
    "Probability of wheater\n",
    "- $P(D1)$, $P(D1= sunny) = 0.9$\n",
    "- $P(D2 = sunny| D1 = sunny ) = 0.8$\n",
    "- $P(D2 = rainy| D1 = sunny ) = ??$"
   ]
  },
  {
   "cell_type": "code",
   "execution_count": 33,
   "metadata": {},
   "outputs": [
    {
     "data": {
      "text/plain": [
       "True"
      ]
     },
     "execution_count": 33,
     "metadata": {},
     "output_type": "execute_result"
    }
   ],
   "source": [
    "res_7(val = )"
   ]
  },
  {
   "cell_type": "markdown",
   "metadata": {},
   "source": [
    "## <span style=\"color:orange\">8. student</span>: \n",
    "Probability of wheater\n",
    "- $P(D1)$, $P(D1= sunny) = 0.9$\n",
    "- $P(D2 = sunny| D1 = sunny ) = 0.8$\n",
    "- $P(D2 = rainy| D1 = sunny ) = ??$\n",
    "- $P(D2 = sunny| D1 = rainy ) = 0.6$\n",
    "- $P(D2 = rainy| D1 = sunny ) = ??$"
   ]
  },
  {
   "cell_type": "code",
   "execution_count": 8,
   "metadata": {},
   "outputs": [
    {
     "data": {
      "text/plain": [
       "True"
      ]
     },
     "execution_count": 8,
     "metadata": {},
     "output_type": "execute_result"
    }
   ],
   "source": [
    "res_8(val =0.4 )"
   ]
  },
  {
   "cell_type": "markdown",
   "metadata": {},
   "source": [
    "## <span style=\"color:orange\">8. student</span>: \n",
    "Probability of wheater\n",
    "- $P(D1)$, $P(D1= sunny) = 0.9$\n",
    "- $P(D2 = sunny| D1 = sunny ) = 0.8$\n",
    "- $P(D2 = rainy| D1 = sunny ) = ??$\n",
    "- $P(D2 = sunny| D1 = rainy ) = 0.6$\n",
    "- $P(D2 = rainy| D1 = sunny ) = ??$\n",
    "\n",
    "What is the probability that $P(D_2 = sunny)$"
   ]
  },
  {
   "cell_type": "code",
   "execution_count": 3,
   "metadata": {},
   "outputs": [
    {
     "data": {
      "text/plain": [
       "True"
      ]
     },
     "execution_count": 3,
     "metadata": {},
     "output_type": "execute_result"
    }
   ],
   "source": [
    "res_9(val = )"
   ]
  },
  {
   "cell_type": "markdown",
   "metadata": {},
   "source": [
    "\n",
    "What is the probability that $P(D_3 = sunny)$"
   ]
  },
  {
   "cell_type": "code",
   "execution_count": 15,
   "metadata": {},
   "outputs": [
    {
     "data": {
      "text/plain": [
       "True"
      ]
     },
     "execution_count": 15,
     "metadata": {},
     "output_type": "execute_result"
    }
   ],
   "source": [
    "res_10(val = )\n"
   ]
  },
  {
   "cell_type": "code",
   "execution_count": null,
   "metadata": {},
   "outputs": [],
   "source": []
  }
 ],
 "metadata": {
  "kernelspec": {
   "display_name": "Python 2",
   "language": "python",
   "name": "python2"
  },
  "language_info": {
   "codemirror_mode": {
    "name": "ipython",
    "version": 2
   },
   "file_extension": ".py",
   "mimetype": "text/x-python",
   "name": "python",
   "nbconvert_exporter": "python",
   "pygments_lexer": "ipython2",
   "version": "2.7.14"
  }
 },
 "nbformat": 4,
 "nbformat_minor": 2
}

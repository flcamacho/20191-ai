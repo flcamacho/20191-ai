{
 "cells": [
  {
   "cell_type": "markdown",
   "metadata": {},
   "source": [
    "# Regression Metrics\n",
    "\n",
    "There exist a lot of metrics to measure real-value differences in regression. Some examples are: \n",
    "\n",
    "- Mean Squared Error (MSE)\n",
    "- Root Mean Squared Error (RMSE)\n",
    "- Mean Absolute Error (MAE)\n",
    "- R Squared (R²)\n",
    "- Adjusted R Squared (R²)\n",
    "- Mean Square Percentage Error (MSPE)\n",
    "- Mean Absolute Percentage Error (MAPE)\n",
    "- Root Mean Squared Logarithmic Error (RMSLE)"
   ]
  },
  {
   "cell_type": "markdown",
   "metadata": {},
   "source": [
    "## Mean Squared Error (MSE)\n",
    "\n",
    "$$MSE = \\frac{1}{N} \\sum_{i=1}^{N} (y_i - \\hat{y_i})^{2} $$\n",
    "\n",
    "- To Higher values, worse model performance\n",
    "- Stand out outliers\n",
    "- Useful if we have unexpected value to pay attention\n",
    "- A single very bad prediction, will produce strong errors because the squaring (noisy data)\n",
    "- It is easy to derivate for optimization process"
   ]
  },
  {
   "cell_type": "markdown",
   "metadata": {},
   "source": [
    "## Root Mean Squared Error (RMSE)\n",
    "\n",
    "$$RMSE = \\sqrt{\\frac{1}{N} \\sum_{i=1}^{N} (y_i - \\hat{y_i})^{2}} = \\sqrt{MSE} $$\n",
    "\n",
    "- Similar tendency that MSE\n",
    "- To Higher values, worse model performance\n",
    "- We can use MSE for ooptimization process...\n",
    "- We give result on data range"
   ]
  },
  {
   "cell_type": "markdown",
   "metadata": {},
   "source": [
    "## Mean Absolute Erroe (MAE)\n",
    "\n",
    "$$MAE =\\frac{1}{N} \\sum_{i=1}^{N} |y_i - \\hat{y_i}| $$\n",
    "\n",
    "- In average all the  differences are weighted equally\n",
    "- It is not sensitive to outliers\n",
    "- The gradiend is a step function\n"
   ]
  },
  {
   "cell_type": "markdown",
   "metadata": {},
   "source": [
    "## R Squared (R²):  coefficient of determination\n",
    "\n",
    "$$R^{2} = 1 - \\frac{MSE_i}{MSE_bl}$$\n",
    "\n",
    "-  Measures how much our model $i$ is better than the constant baseline $bl$.\n",
    "\n"
   ]
  },
  {
   "cell_type": "markdown",
   "metadata": {},
   "source": [
    "<img src=\"../imgs/bannerThanks.jpg\" style=\"width:1000px;\">"
   ]
  },
  {
   "cell_type": "code",
   "execution_count": null,
   "metadata": {},
   "outputs": [],
   "source": []
  }
 ],
 "metadata": {
  "kernelspec": {
   "display_name": "Python 3",
   "language": "python",
   "name": "python3"
  },
  "language_info": {
   "codemirror_mode": {
    "name": "ipython",
    "version": 3
   },
   "file_extension": ".py",
   "mimetype": "text/x-python",
   "name": "python",
   "nbconvert_exporter": "python",
   "pygments_lexer": "ipython3",
   "version": "3.7.1"
  }
 },
 "nbformat": 4,
 "nbformat_minor": 2
}
